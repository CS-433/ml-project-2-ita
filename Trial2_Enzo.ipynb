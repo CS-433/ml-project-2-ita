{
  "cells": [
    {
      "cell_type": "code",
      "execution_count": 1,
      "metadata": {
        "colab": {
          "base_uri": "https://localhost:8080/"
        },
        "id": "Invi4SwWUGt0",
        "outputId": "d5af3d68-657f-4d53-a0d8-3123ba04f2c9"
      },
      "outputs": [
        {
          "output_type": "stream",
          "name": "stdout",
          "text": [
            "Collecting vtk\n",
            "  Downloading vtk-9.4.0-cp310-cp310-manylinux_2_17_x86_64.manylinux2014_x86_64.whl.metadata (5.3 kB)\n",
            "Requirement already satisfied: matplotlib>=2.0.0 in /usr/local/lib/python3.10/dist-packages (from vtk) (3.8.0)\n",
            "Requirement already satisfied: contourpy>=1.0.1 in /usr/local/lib/python3.10/dist-packages (from matplotlib>=2.0.0->vtk) (1.3.1)\n",
            "Requirement already satisfied: cycler>=0.10 in /usr/local/lib/python3.10/dist-packages (from matplotlib>=2.0.0->vtk) (0.12.1)\n",
            "Requirement already satisfied: fonttools>=4.22.0 in /usr/local/lib/python3.10/dist-packages (from matplotlib>=2.0.0->vtk) (4.55.0)\n",
            "Requirement already satisfied: kiwisolver>=1.0.1 in /usr/local/lib/python3.10/dist-packages (from matplotlib>=2.0.0->vtk) (1.4.7)\n",
            "Requirement already satisfied: numpy<2,>=1.21 in /usr/local/lib/python3.10/dist-packages (from matplotlib>=2.0.0->vtk) (1.26.4)\n",
            "Requirement already satisfied: packaging>=20.0 in /usr/local/lib/python3.10/dist-packages (from matplotlib>=2.0.0->vtk) (24.2)\n",
            "Requirement already satisfied: pillow>=6.2.0 in /usr/local/lib/python3.10/dist-packages (from matplotlib>=2.0.0->vtk) (11.0.0)\n",
            "Requirement already satisfied: pyparsing>=2.3.1 in /usr/local/lib/python3.10/dist-packages (from matplotlib>=2.0.0->vtk) (3.2.0)\n",
            "Requirement already satisfied: python-dateutil>=2.7 in /usr/local/lib/python3.10/dist-packages (from matplotlib>=2.0.0->vtk) (2.8.2)\n",
            "Requirement already satisfied: six>=1.5 in /usr/local/lib/python3.10/dist-packages (from python-dateutil>=2.7->matplotlib>=2.0.0->vtk) (1.16.0)\n",
            "Downloading vtk-9.4.0-cp310-cp310-manylinux_2_17_x86_64.manylinux2014_x86_64.whl (105.0 MB)\n",
            "\u001b[2K   \u001b[90m━━━━━━━━━━━━━━━━━━━━━━━━━━━━━━━━━━━━━━━━\u001b[0m \u001b[32m105.0/105.0 MB\u001b[0m \u001b[31m10.7 MB/s\u001b[0m eta \u001b[36m0:00:00\u001b[0m\n",
            "\u001b[?25hInstalling collected packages: vtk\n",
            "Successfully installed vtk-9.4.0\n",
            "Collecting meshio\n",
            "  Downloading meshio-5.3.5-py3-none-any.whl.metadata (11 kB)\n",
            "Requirement already satisfied: numpy>=1.20.0 in /usr/local/lib/python3.10/dist-packages (from meshio) (1.26.4)\n",
            "Requirement already satisfied: rich in /usr/local/lib/python3.10/dist-packages (from meshio) (13.9.4)\n",
            "Requirement already satisfied: markdown-it-py>=2.2.0 in /usr/local/lib/python3.10/dist-packages (from rich->meshio) (3.0.0)\n",
            "Requirement already satisfied: pygments<3.0.0,>=2.13.0 in /usr/local/lib/python3.10/dist-packages (from rich->meshio) (2.18.0)\n",
            "Requirement already satisfied: typing-extensions<5.0,>=4.0.0 in /usr/local/lib/python3.10/dist-packages (from rich->meshio) (4.12.2)\n",
            "Requirement already satisfied: mdurl~=0.1 in /usr/local/lib/python3.10/dist-packages (from markdown-it-py>=2.2.0->rich->meshio) (0.1.2)\n",
            "Downloading meshio-5.3.5-py3-none-any.whl (166 kB)\n",
            "\u001b[2K   \u001b[90m━━━━━━━━━━━━━━━━━━━━━━━━━━━━━━━━━━━━━━━━\u001b[0m \u001b[32m166.2/166.2 kB\u001b[0m \u001b[31m14.0 MB/s\u001b[0m eta \u001b[36m0:00:00\u001b[0m\n",
            "\u001b[?25hInstalling collected packages: meshio\n",
            "Successfully installed meshio-5.3.5\n"
          ]
        }
      ],
      "source": [
        "!pip install vtk\n",
        "!pip install meshio"
      ]
    },
    {
      "cell_type": "code",
      "execution_count": 2,
      "metadata": {
        "id": "xcjMZnnRwpCN"
      },
      "outputs": [],
      "source": [
        "import matplotlib\n",
        "import matplotlib.pyplot as plt\n",
        "import numpy as np\n",
        "import torch\n",
        "from torch.utils.data import Dataset, DataLoader\n",
        "import os\n",
        "import vtkmodules.all as vtk\n",
        "from vtkmodules.util.numpy_support import vtk_to_numpy, numpy_to_vtk\n",
        "import meshio\n",
        "from scipy.spatial.distance import cdist\n",
        "from torchvision import datasets, transforms\n",
        "import random"
      ]
    },
    {
      "cell_type": "code",
      "source": [
        "def set_seed(seed):\n",
        "    torch.manual_seed(seed)\n",
        "    torch.cuda.manual_seed(seed)\n",
        "    torch.cuda.manual_seed_all(seed)\n",
        "    np.random.seed(seed)\n",
        "    random.seed(seed)\n",
        "    torch.backends.cudnn.deterministic = True\n",
        "    torch.backends.cudnn.benchmark = False\n",
        "\n",
        "set_seed(42)"
      ],
      "metadata": {
        "id": "R9olb7sJ2u0T"
      },
      "execution_count": 3,
      "outputs": []
    },
    {
      "cell_type": "code",
      "execution_count": 4,
      "metadata": {
        "colab": {
          "base_uri": "https://localhost:8080/"
        },
        "id": "UQ3-Jiio0MMr",
        "outputId": "e2a70bde-7fc8-44f5-fde0-07a6f0539029"
      },
      "outputs": [
        {
          "output_type": "stream",
          "name": "stdout",
          "text": [
            "Mounted at /content/drive\n"
          ]
        }
      ],
      "source": [
        "from google.colab import drive\n",
        "drive.mount('/content/drive')\n",
        "\n",
        "#device=torch.device('cpu')\n",
        "device = torch.device('cuda' if torch.cuda.is_available() else 'cpu')\n"
      ]
    },
    {
      "cell_type": "code",
      "execution_count": 5,
      "metadata": {
        "id": "GdOhmH83cwz2"
      },
      "outputs": [],
      "source": [
        "device = torch.device('cuda' if torch.cuda.is_available() else 'cpu')"
      ]
    },
    {
      "cell_type": "code",
      "execution_count": 6,
      "metadata": {
        "id": "z6Cg8T5wmrPq"
      },
      "outputs": [],
      "source": [
        "DATASET_PATH = '/content/drive/MyDrive/data_ML4Science'"
      ]
    },
    {
      "cell_type": "code",
      "execution_count": 7,
      "metadata": {
        "id": "_Bqc_7Kl3RmC"
      },
      "outputs": [],
      "source": [
        "fields = {'velocity', 'pressure'}\n",
        "\n",
        "basis_space, sv_space, Nh_space, nmodes_space = dict(), dict(), dict(), dict()\n",
        "basis_time, sv_time, Nh_time, nmodes_time = dict(), dict(), dict(), dict()\n",
        "nmodes = dict()\n",
        "for field in fields:\n",
        "    basis_space[field] = np.load(os.path.join(DATASET_PATH, 'basis', field, 'space_basis.npy'))  # spatial basis\n",
        "    sv_space[field] = np.load(os.path.join(DATASET_PATH, 'basis', field, 'space_sv.npy'))  # singular values in space\n",
        "    Nh_space[field], nmodes_space[field] = basis_space[field].shape  # number of FOM and ROM unknowns in space\n",
        "    basis_time[field] = np.load(os.path.join(DATASET_PATH, 'basis', field, 'time_basis.npy'))  # temporal basis\n",
        "    sv_time[field] = np.load(os.path.join(DATASET_PATH, 'basis', field, 'time_sv.npy'))  # singular values in time\n",
        "    Nh_time[field], nmodes_time[field] = basis_time[field].shape  # number of FOM and ROM unknowns in time\n",
        "    nmodes[field] = nmodes_space[field] * nmodes_time[field]  # total dimension of the reduced basis\n",
        "\n",
        "# UPDATE VELOCITY BASES TO ACCOUNT FOR SUPREMIZERS AND STABILIZERS\n",
        "N_supr_space = basis_space['pressure'].shape[1] + 66  # number of extra bases in space for the velocity\n",
        "N_supr_time = 5  # number of extra bases in time for the velocity\n",
        "\n",
        "# STORE ORIGINAL NUMBER OF VELOCITY MODES IN THE DICTIONARY\n",
        "nmodes_space['velocity_full'] = nmodes_space['velocity']\n",
        "nmodes_time['velocity_full'] = nmodes_time['velocity']\n",
        "nmodes['velocity_full'] = nmodes['velocity']\n",
        "\n",
        "# UPDATE THE NUMBER OF VELOCITY MODES TO ACCOUNT FOR SUPREMIZERS AND STABILIZERS\n",
        "nmodes_space['velocity'] -= N_supr_space\n",
        "nmodes_time['velocity'] -= N_supr_time\n",
        "nmodes['velocity'] = nmodes_space['velocity'] * nmodes_time['velocity']\n",
        "\n",
        "# UPDATE VELOCITY BASES TO ACCOUNT FOR SUPREMIZERS AND STABILIZERS\n",
        "basis_space['velocity'] = basis_space['velocity'][:, :nmodes_space['velocity']]\n",
        "basis_time['velocity'] = basis_time['velocity'][:, :nmodes_time['velocity']]\n",
        "\n",
        "# LOAD NORMED BASIS MATRICES IN SPACE (needed for projections)\n",
        "basis_space_normed = dict()\n",
        "#norm = dict()\n",
        "for field in fields:\n",
        "    #norm[field] = load_npz(os.path.join('dataset', 'norms', f'norm_{field}.npz'))\n",
        "    #basis_space_normed[field] = norm[field].dot(basis_space[field])\n",
        "    #np.save(os.path.join('dataset', 'basis', field, 'basis_space_normed.npy'), basis_space_normed[field])\n",
        "    basis_space_normed[field] = np.load(os.path.join(DATASET_PATH, 'basis', field, 'basis_space_normed.npy'))\n",
        "\n",
        "##################################################################\n",
        "def project(sol, normed_basis_space, basis_time):\n",
        "    \"\"\" Project a full-order solution in space-time.\"\"\"\n",
        "    return (normed_basis_space.T.dot(sol)).dot(basis_time) # !! REMARK: here we need the normed basis in space !!\n",
        "\n",
        "def expand(sol, basis_space, basis_time):\n",
        "    \"\"\" Expand a reduced-order solution in space-time.\"\"\"\n",
        "    return (basis_space.dot(sol)).dot(basis_time.T)\n",
        "\n",
        "##################################################################"
      ]
    },
    {
      "cell_type": "code",
      "execution_count": 8,
      "metadata": {
        "id": "mA3wRZEOoVLB"
      },
      "outputs": [],
      "source": [
        "params = np.load(os.path.join(DATASET_PATH, 'RB_data', 'parameters.npy'))\n",
        "params = np.delete(params, 2, axis=1)"
      ]
    },
    {
      "cell_type": "code",
      "execution_count": 9,
      "metadata": {
        "id": "K0EhSv14og6T"
      },
      "outputs": [],
      "source": [
        "n_snaps = None  # change to a number if you want to load only a subset of snapshots\n",
        "_sol = np.load(os.path.join(DATASET_PATH, 'RB_data', 'solutions.npy'))[:n_snaps]\n",
        "\n",
        "solutions = dict()\n",
        "\n",
        "# velocity reduced solutions (with and without supremizers and stabilizers)\n",
        "solutions['velocity_full'] = np.reshape(_sol[:, :nmodes['velocity_full']],\n",
        "                                        (-1, nmodes_space['velocity_full'], nmodes_time['velocity_full']))\n",
        "solutions['velocity'] = solutions['velocity_full'][:, :nmodes_space['velocity'], :nmodes_time['velocity']]\n",
        "\n",
        "# pressure reduced solutions\n",
        "solutions['pressure'] = np.reshape(_sol[:, :nmodes['pressure']],\n",
        "                                   (-1, nmodes_space['pressure'], nmodes_time['pressure']))"
      ]
    },
    {
      "cell_type": "code",
      "execution_count": null,
      "metadata": {
        "id": "vhZYXNL9n_ju",
        "colab": {
          "base_uri": "https://localhost:8080/"
        },
        "outputId": "5df78f1c-468c-4e85-8869-b24e545d5f15"
      },
      "outputs": [
        {
          "output_type": "execute_result",
          "data": {
            "text/plain": [
              "(76974, 39)"
            ]
          },
          "metadata": {},
          "execution_count": 13
        }
      ],
      "source": [
        "basis_space['velocity'].shape #Vs = Ns *ns"
      ]
    },
    {
      "cell_type": "code",
      "execution_count": null,
      "metadata": {
        "id": "W_IJ_VUYoCEo",
        "colab": {
          "base_uri": "https://localhost:8080/"
        },
        "outputId": "2e77f15c-a76e-4c6d-d68e-f551c3c477c7"
      },
      "outputs": [
        {
          "output_type": "execute_result",
          "data": {
            "text/plain": [
              "(1000, 16)"
            ]
          },
          "metadata": {},
          "execution_count": 14
        }
      ],
      "source": [
        "basis_time['velocity'].shape"
      ]
    },
    {
      "cell_type": "markdown",
      "metadata": {
        "id": "WdrwegyJc-wT"
      },
      "source": []
    },
    {
      "cell_type": "code",
      "execution_count": null,
      "metadata": {
        "id": "bqQ58u-UoEeT",
        "colab": {
          "base_uri": "https://localhost:8080/"
        },
        "outputId": "6dc469d7-a106-41dd-d53f-e9509bf49361"
      },
      "outputs": [
        {
          "output_type": "execute_result",
          "data": {
            "text/plain": [
              "(3552, 9)"
            ]
          },
          "metadata": {},
          "execution_count": 15
        }
      ],
      "source": [
        "basis_space['pressure'].shape"
      ]
    },
    {
      "cell_type": "code",
      "execution_count": null,
      "metadata": {
        "id": "tMO1E5SjoGvU",
        "colab": {
          "base_uri": "https://localhost:8080/"
        },
        "outputId": "d0acd185-388f-4a4b-f446-5a79f400d998"
      },
      "outputs": [
        {
          "output_type": "execute_result",
          "data": {
            "text/plain": [
              "(1000, 19)"
            ]
          },
          "metadata": {},
          "execution_count": 16
        }
      ],
      "source": [
        "basis_time['pressure'].shape"
      ]
    },
    {
      "cell_type": "code",
      "execution_count": null,
      "metadata": {
        "id": "sstQrU6Ds11j",
        "colab": {
          "base_uri": "https://localhost:8080/"
        },
        "outputId": "d641d779-dc7f-4d60-8a4e-e006af059975"
      },
      "outputs": [
        {
          "output_type": "execute_result",
          "data": {
            "text/plain": [
              "(1950, 9, 19)"
            ]
          },
          "metadata": {},
          "execution_count": 17
        }
      ],
      "source": [
        "solutions['pressure'].shape"
      ]
    },
    {
      "cell_type": "code",
      "execution_count": null,
      "metadata": {
        "id": "8O_IrlxOxbRy",
        "colab": {
          "base_uri": "https://localhost:8080/"
        },
        "outputId": "e9632f25-d3a6-4e1b-90f7-a34cf4b90c5d"
      },
      "outputs": [
        {
          "output_type": "execute_result",
          "data": {
            "text/plain": [
              "(1950, 39, 16)"
            ]
          },
          "metadata": {},
          "execution_count": 18
        }
      ],
      "source": [
        "solutions['velocity'].shape"
      ]
    },
    {
      "cell_type": "code",
      "execution_count": 10,
      "metadata": {
        "id": "57AtIrbHogWJ"
      },
      "outputs": [],
      "source": [
        "solutions['pressure']= torch.tensor(solutions['pressure'], dtype=torch.float32)\n",
        "solutions['velocity']= torch.tensor(solutions['velocity'], dtype=torch.float32)\n",
        "params = torch.tensor(params, dtype=torch.float32)"
      ]
    },
    {
      "cell_type": "code",
      "execution_count": 11,
      "metadata": {
        "id": "CMIFcsExttZc"
      },
      "outputs": [],
      "source": [
        "class Fluid_Dataset(Dataset):\n",
        "    def __init__(self, inputs, targets):\n",
        "        self.inputs = inputs\n",
        "        self.targets =  targets\n",
        "\n",
        "    def __len__(self):\n",
        "        return self.inputs.shape[0]\n",
        "\n",
        "    def __getitem__(self, idx):\n",
        "\n",
        "        input = self.inputs[idx]\n",
        "        output = self.targets[idx]\n",
        "        return input, output\n"
      ]
    },
    {
      "cell_type": "code",
      "execution_count": 12,
      "metadata": {
        "id": "zePSfOcbvLOk",
        "colab": {
          "base_uri": "https://localhost:8080/"
        },
        "outputId": "63d9e1d3-9033-4bcc-cccb-e877c31e8501"
      },
      "outputs": [
        {
          "output_type": "stream",
          "name": "stdout",
          "text": [
            "tensor([151.1840,  47.9287,  -4.8919, -13.6345,  15.4792,  -4.2125,  -0.3348,\n",
            "          5.1385,  -0.6269,  -3.8354,  -0.5111,   4.1919,  -3.5017,  -0.8359,\n",
            "         -0.5537,  -0.7395])\n"
          ]
        }
      ],
      "source": [
        "N_data=params.shape[0]\n",
        "indices = torch.randperm(N_data)\n",
        "ratio_data=0.8\n",
        "train_size = int(ratio_data * N_data)\n",
        "train_indices = indices[:train_size]\n",
        "test_indices=indices[train_size:]\n",
        "\n",
        "train_params=params[train_indices]\n",
        "test_params=params[test_indices]\n",
        "\n",
        "mean_params=torch.mean(train_params,dim=0)\n",
        "std_params=torch.std(train_params,dim=0)\n",
        "train_params=(train_params-mean_params)/std_params\n",
        "test_params=(test_params-mean_params)/std_params\n",
        "\n",
        "\n",
        "train_vel=solutions['velocity'][train_indices]\n",
        "\n",
        "test_vel=solutions['velocity'][test_indices]\n",
        "\n",
        "train_press=solutions['pressure'][train_indices]\n",
        "test_press=solutions['pressure'][test_indices]\n",
        "print(train_vel[0,0,:])"
      ]
    },
    {
      "cell_type": "code",
      "execution_count": null,
      "metadata": {
        "id": "ZLHSePTbcFq_",
        "colab": {
          "base_uri": "https://localhost:8080/"
        },
        "outputId": "90a088b3-bb44-4708-8099-0b73a74e7f7a"
      },
      "outputs": [
        {
          "output_type": "stream",
          "name": "stdout",
          "text": [
            "tensor([ 1.7319,  0.2168, -0.5090, -0.7062,  0.7336,  2.1690,  0.4455, -2.7250,\n",
            "        -1.2003, -0.4249,  1.8618, -1.7595, -0.5973, -0.1114,  0.1245,  0.8888])\n"
          ]
        }
      ],
      "source": [
        "#STANDARDITZAION ALTERNATIVE ZERO\n",
        "vel_space_mean = torch.mean(train_vel, dim= 0)\n",
        "vel_space_std = torch.std(train_vel, dim=0)\n",
        "train_vel = (train_vel - vel_space_mean) / vel_space_std\n",
        "test_vel =(test_vel - vel_space_mean) / vel_space_std\n",
        "\n",
        "\n",
        "print(train_vel[0,0,:])\n"
      ]
    },
    {
      "cell_type": "code",
      "source": [
        "print(train_vel.mean())\n",
        "print(test_vel.mean())"
      ],
      "metadata": {
        "colab": {
          "base_uri": "https://localhost:8080/"
        },
        "id": "y8TI9AnOoEkj",
        "outputId": "2529f791-eff8-4002-b703-52b36ab24f0a"
      },
      "execution_count": null,
      "outputs": [
        {
          "output_type": "stream",
          "name": "stdout",
          "text": [
            "tensor(6.3876e-10)\n",
            "tensor(0.0003)\n"
          ]
        }
      ]
    },
    {
      "cell_type": "code",
      "execution_count": 13,
      "metadata": {
        "id": "foxgkv9l0ikm",
        "colab": {
          "base_uri": "https://localhost:8080/"
        },
        "outputId": "6a4e83b8-4f20-46c8-fda0-42395af27105"
      },
      "outputs": [
        {
          "output_type": "stream",
          "name": "stdout",
          "text": [
            "tensor([0.5125, 0.4972, 0.3822, 0.1550, 0.7809, 0.2477, 0.4258, 0.5963, 0.3093,\n",
            "        0.2861, 0.3506, 0.6018, 0.7280, 0.6898, 0.3659, 0.5932])\n"
          ]
        }
      ],
      "source": [
        "\n",
        "#STANDARDITZAION ALTERNATIVE ONE\n",
        "vel_space_max = torch.max(train_vel, dim= 0).values\n",
        "vel_space_min = torch.min(train_vel, dim=0).values\n",
        "train_vel = (train_vel - vel_space_min*0.95) / (1.05*vel_space_max - 0.95*vel_space_min)\n",
        "test_vel =(test_vel - vel_space_min*0.95) / (1.05*vel_space_max - 0.95*vel_space_min)\n",
        "\n",
        "\n",
        "\n",
        "print(train_vel[0,0,:])"
      ]
    },
    {
      "cell_type": "code",
      "execution_count": null,
      "metadata": {
        "id": "vnyE0gXK6WLS"
      },
      "outputs": [],
      "source": []
    },
    {
      "cell_type": "code",
      "execution_count": null,
      "metadata": {
        "id": "Jyi6yYWK2MEF"
      },
      "outputs": [],
      "source": [
        "train_params.shape"
      ]
    },
    {
      "cell_type": "code",
      "execution_count": null,
      "metadata": {
        "id": "zJyxsOfu2PL1"
      },
      "outputs": [],
      "source": [
        "test_params.shape"
      ]
    },
    {
      "cell_type": "code",
      "execution_count": null,
      "metadata": {
        "id": "F2ePjgZznYjm"
      },
      "outputs": [],
      "source": [
        "train_vel.shape"
      ]
    },
    {
      "cell_type": "code",
      "execution_count": null,
      "metadata": {
        "id": "rzd6zZONneMB"
      },
      "outputs": [],
      "source": [
        "test_vel.shape"
      ]
    },
    {
      "cell_type": "code",
      "execution_count": 14,
      "metadata": {
        "id": "Xl0I7JiFuMXM"
      },
      "outputs": [],
      "source": [
        "#IGNORE THIS FOR THE MOMENT\n",
        "class MLP_press_ConvAutoencoder(torch.nn.Module):\n",
        "    def __init__(self, parameters=3, dim_1=39, dim_2=16, dim_1_reduced=18, dim_2_reduced=8, L=4, K=256):\n",
        "        super(MLP_press_ConvAutoencoder, self).__init__()\n",
        "\n",
        "        self.mlp = torch.nn.Sequential(\n",
        "            *[layer for i in range(L) for layer in [\n",
        "                torch.nn.Linear(parameters if i == 0 else K, K),\n",
        "                torch.nn.LayerNorm(K),\n",
        "                torch.nn.GELU(),\n",
        "            ]],\n",
        "            torch.nn.Linear(K, dim_1_reduced * dim_2_reduced),\n",
        "            torch.nn.Unflatten(1, (dim_1_reduced, dim_2_reduced))  # Reshaping to (-1, dim_1_reduced, dim_2_reduced)\n",
        "        )\n",
        "\n",
        "        # Encoder\n",
        "        self.encoder = torch.nn.Sequential(\n",
        "            torch.nn.Conv2d(1, 16, kernel_size=3, stride=2, padding=1),  # (batch_size, 1, dim_1, dim_2) -> (batch_size, 16, 20, 8)\n",
        "            torch.nn.BatchNorm2d(num_features=16),\n",
        "            torch.nn.ReLU(),\n",
        "            torch.nn.Conv2d(16, 32, kernel_size=3, stride=2, padding=1),  # (batch_size, 16, 20, 8) -> (batch_size, 32, 10, 4)\n",
        "            torch.nn.BatchNorm2d(num_features=32),\n",
        "            torch.nn.ReLU(),\n",
        "            torch.nn.Flatten(),  # (batch_size, 32, 10, 4) -> (batch_size, 1280)\n",
        "            torch.nn.Linear(32*10*4, dim_1_reduced * dim_2_reduced),  # (batch_size, 1280) -> (batch_size, dim_1_reduced * dim_2_reduced)\n",
        "            torch.nn.ReLU(),\n",
        "            torch.nn.Unflatten(1, (dim_1_reduced , dim_2_reduced))  # Reshape to (batch_size, dim_1_reduced, dim_2_reduced)\n",
        "        )\n",
        "\n",
        "        # Decoder\n",
        "        self.decoder = torch.nn.Sequential(\n",
        "      torch.nn.Flatten(1),\n",
        "      torch.nn.Linear(18 * 8, 32 * 10 * 4),  # (batch_size, dim_1_reduced * dim_2_reduced) -> (batch_size, 32*10*4)\n",
        "      torch.nn.BatchNorm1d(32 * 10 * 4),  # Batch normalization before ReLU\n",
        "      torch.nn.ReLU(),\n",
        "      torch.nn.Unflatten(1, (32, 10, 4)),  # (batch_size, 32*10*4) -> (batch_size, 32, 10, 4)\n",
        "      torch.nn.ConvTranspose2d(32, 16, kernel_size=3, stride=2, padding=1, output_padding=(1, 1)),  # (batch_size, 32, 10, 4) -> (batch_size, 16, 20, 8)\n",
        "      torch.nn.BatchNorm2d(16),  # Batch normalization before ReLU\n",
        "      torch.nn.ReLU(),\n",
        "      torch.nn.ConvTranspose2d(16, 1, kernel_size=3, stride=2, padding=1, output_padding=(0, 1)),  # (batch_size, 16, 20, 8) -> (batch_size, 1, 39, 16)\n",
        "\n",
        ")\n",
        "\n",
        "\n",
        "    def forward(self, par, out):\n",
        "        Z1 = self.mlp(par)  # (dim_1_reduced * dim_2_reduced)\n",
        "\n",
        "        out_squeezed = out.unsqueeze(1)\n",
        "          # Adding channel dimension to input\n",
        "        Z2 = self.encoder(out_squeezed)  # (dim_1_reduced * dim_2_reduced)\n",
        "\n",
        "        Z3 = self.decoder(Z2) # (batch_siz, 1, dim_1, dim_2)\n",
        "        Z3=Z3.squeeze(1)  # (batch_siz, dim_1, dim_2)\n",
        "\n",
        "        return Z1, Z2, Z3\n",
        "\n",
        "    def predict(self, par):\n",
        "        Z = self.mlp(par)  # (dim_1_reduced * dim_2_reduced)\n",
        "        Z = self.decoder(Z)  # (batch_size, 1, dim_1, dim_2)\n",
        "        Z=Z.squeeze(1)\n",
        "        return Z\n",
        "\n"
      ]
    },
    {
      "cell_type": "code",
      "source": [],
      "metadata": {
        "id": "GVL4yfwkYva1"
      },
      "execution_count": null,
      "outputs": []
    },
    {
      "cell_type": "code",
      "source": [
        "\n",
        "model = MLP_press_ConvAutoencoder()\n",
        "  # Valori casuali tra 0 e 1\n",
        "z1, z2, z3= model.forward(train_params,train_vel)"
      ],
      "metadata": {
        "id": "VZUhqoGWT8y2"
      },
      "execution_count": null,
      "outputs": []
    },
    {
      "cell_type": "code",
      "source": [
        "z1.shape"
      ],
      "metadata": {
        "colab": {
          "base_uri": "https://localhost:8080/"
        },
        "id": "Z_lXkgjfT-Ua",
        "outputId": "bb982e8b-4ead-4860-a2af-0fd7a60e6bb6"
      },
      "execution_count": null,
      "outputs": [
        {
          "output_type": "execute_result",
          "data": {
            "text/plain": [
              "torch.Size([1560, 18, 8])"
            ]
          },
          "metadata": {},
          "execution_count": 15
        }
      ]
    },
    {
      "cell_type": "code",
      "source": [
        "z2.shape"
      ],
      "metadata": {
        "colab": {
          "base_uri": "https://localhost:8080/"
        },
        "id": "vJ2FXxmGT_cB",
        "outputId": "aa7ae255-258c-4431-d2ee-b5a49f9e8fde"
      },
      "execution_count": null,
      "outputs": [
        {
          "output_type": "execute_result",
          "data": {
            "text/plain": [
              "torch.Size([1560, 18, 8])"
            ]
          },
          "metadata": {},
          "execution_count": 18
        }
      ]
    },
    {
      "cell_type": "code",
      "source": [
        "z3.shape"
      ],
      "metadata": {
        "colab": {
          "base_uri": "https://localhost:8080/"
        },
        "id": "UA9_cwCcUD7S",
        "outputId": "544103b0-4554-46a4-d164-7bc23bad75e5"
      },
      "execution_count": null,
      "outputs": [
        {
          "output_type": "execute_result",
          "data": {
            "text/plain": [
              "torch.Size([1560, 39, 16])"
            ]
          },
          "metadata": {},
          "execution_count": 19
        }
      ]
    },
    {
      "cell_type": "code",
      "source": [
        "#I'M USING THIS AT THE MOMENT\n",
        "\n",
        "class MLP_press_ConvAutoencoder_2(torch.nn.Module):\n",
        "    def __init__(self, parameters=3, dim_1=39, dim_2=16, dim_reduced=128, L=4, K=256):\n",
        "        super(MLP_press_ConvAutoencoder_2, self).__init__()\n",
        "\n",
        "        self.mlp = torch.nn.Sequential(\n",
        "            *[layer for i in range(L) for layer in [\n",
        "                torch.nn.Linear(parameters if i == 0 else K, K),\n",
        "                torch.nn.LayerNorm(K),\n",
        "                torch.nn.ReLU(),\n",
        "            ]],\n",
        "            torch.nn.Linear(K, dim_reduced), #(batch_size, K) -> (batch_size, dim_reduced)\n",
        "\n",
        "        )\n",
        "\n",
        "        # Encoder\n",
        "\n",
        "        self.encoder = torch.nn.Sequential(\n",
        "            torch.nn.Conv2d(1, 64, kernel_size=5, stride=2, padding=1),  # (batch_size, 1, dim_1, dim_2) -> (batch_size, 64, 19, 7)\n",
        "            #torch.nn.BatchNorm2d(64),\n",
        "            torch.nn.ReLU(),\n",
        "            torch.nn.Conv2d(64, 128, kernel_size=3, stride=2, padding=1), # (batch_size, 64, 19, 7) -> (batch_size, 128, 10, 4)\n",
        "            #torch.nn.BatchNorm2d(128),\n",
        "            torch.nn.ReLU(),\n",
        "            torch.nn.Flatten(),      #(batch_size, 128, 10, 4) -> (batch_size, 128 x 10 x 4)\n",
        "            torch.nn.Linear(128*10*4, 256),    #(batch_size, 128 x 10 x 4) ->  batch_size, 256)\n",
        "            #torch.nn.Dropout(p=0.3)\n",
        "            torch.nn.ReLU(),\n",
        "            torch.nn.Linear(256, dim_reduced)  #(batch_size, 256) ->  (batch_size, dim_reduced)\n",
        "\n",
        "        )\n",
        "\n",
        "\n",
        "        # Decoder\n",
        "        self.decoder = torch.nn.Sequential(\n",
        "            torch.nn.Linear(dim_reduced, 256),    # (batch_size, dim_reduced)-> #(batch_size, 256)\n",
        "            torch.nn.ReLU(),\n",
        "            torch.nn.Linear(256, 128*10*4), # (batch_size, 256)-> #(batch_size, 128*10*4)\n",
        "            torch.nn.ReLU(),\n",
        "            torch.nn.Unflatten(1, (128, 10, 4)),      #(batch_size, 128*10*4) -> (batch_size, 128, 10, 4)\n",
        "            torch.nn.ConvTranspose2d(128, 64, kernel_size=3, stride=2, padding=1, output_padding=(0, 0)), # (batch_size, 128, 10, 4) -> # (batch_size, 64, 19, 7)\n",
        "            #torch.nn.BatchNorm2d(64),\n",
        "            torch.nn.ReLU(),\n",
        "            torch.nn.ConvTranspose2d(64, 1, kernel_size=5, stride=2, padding=1, output_padding=(0, 1)),   # -> (batch_size, 64, 19, 7) --> (batch_size, 1, dim_1, dim_2)\n",
        "            torch.nn.Sigmoid() #LEVAREEEEEEEE SE NON MIN MAX\n",
        "            #-------->LEVAREEEEEEEE SE NON MIN MAX\n",
        "            #-------->LEVAREEEEEEEE SE NON MIN MAX\n",
        "            #-------->LEVAREEEEEEEE SE NON MIN MAX\n",
        "            #-------->LEVAREEEEEEEE SE NON MIN MAX\n",
        "            #-------->LEVAREEEEEEEE SE NON MIN MAX\n",
        "            #-------->LEVAREEEEEEEE SE NON MIN MAX\n",
        "        )\n",
        "\n",
        "\n",
        "    def forward(self, par, out):\n",
        "        Z1 = self.mlp(par)  # (batch_size, dim_reduced)\n",
        "\n",
        "        out_squeezed = out.unsqueeze(1) #(batch_size x 39 x 16) -> #(batch_size x 1 x 39 x 16)\n",
        "        Z2 = self.encoder(out_squeezed)  # (batch_size, dim_reduced)\n",
        "\n",
        "        Z3 = self.decoder(Z2) # (batch_siz, 1, dim_1, dim_2)\n",
        "        Z3=Z3.squeeze(1)  # (batch_siz, dim_1, dim_2)\n",
        "\n",
        "        return Z1, Z2, Z3\n",
        "\n",
        "    def predict(self, par):\n",
        "        Z = self.mlp(par)  # (dim_1_reduced * dim_2_reduced)\n",
        "        Z = self.decoder(Z)  # (batch_size, 1, dim_1, dim_2)\n",
        "        Z=Z.squeeze(1)\n",
        "        return Z\n",
        "\n",
        "  ######################################################################################\n",
        "\n",
        "class MLP_press_ConvAutoencoder_3(torch.nn.Module):\n",
        "    def __init__(self, activation, pooling, K_comb, L_c, L_l, dim_1=39, dim_2=16, dim_reduced=128, K=256):\n",
        "        super(MLP_press_ConvAutoencoder_3, self).__init__()\n",
        "\n",
        "        if L_c == 1:\n",
        "            dim_post_encoder = 4854\n",
        "            tuple_dec=[(32,19,8),(39,16)]\n",
        "        elif L_c == 2:\n",
        "            dim_post_encoder = 2304\n",
        "            tuple_dec=[(64,9,4),(19,8),(39,16)]\n",
        "        elif L_c == 3:\n",
        "            dim_post_encoder = 1024\n",
        "            tuple_dec=[(128,4,2),(9,4),(19,8),(39,16)]\n",
        "\n",
        "        self.mlp = torch.nn.Sequential(\n",
        "            *[layer for i in range(4) for layer in [\n",
        "                torch.nn.Linear(3 if i == 0 else K, K),\n",
        "                torch.nn.LayerNorm(K),\n",
        "                torch.nn.ReLU(),\n",
        "            ]],\n",
        "            torch.nn.Linear(K, dim_reduced), #(batch_size, K) -> (batch_size, dim_reduced)\n",
        "\n",
        "        )\n",
        "\n",
        "        self.activation=torch.nn.ReLU if activation=='relu' else torch.nn.GELU\n",
        "        self.pooling=torch.nn.MaxPool2d if pooling=='max' else torch.nn.AvgPool2d\n",
        "\n",
        "        # Encoder\n",
        "        self.encoder = torch.nn.Sequential(\n",
        "            *[layer for i in range(L_c) for layer in [\n",
        "                torch.nn.Conv2d(1 if i == 0 else 2**(i-1)*32, 2**(i)*32, kernel_size=K_comb[0], stride=K_comb[1], padding=K_comb[2]),\n",
        "                self.activation(),\n",
        "                self.pooling(2,2)\n",
        "            ]],\n",
        "            torch.nn.Flatten(),\n",
        "            *[layer for i in range(L_l) for layer in [\n",
        "                torch.nn.Linear(dim_post_encoder if i==0 else dim_reduced*(L_l-i+1), dim_reduced*(L_l-i)),\n",
        "                torch.nn.LayerNorm(dim_reduced*(L_l-i)),\n",
        "                self.activation()\n",
        "            ]]\n",
        "        )\n",
        "\n",
        "        self.decoder = torch.nn.Sequential(\n",
        "            *[layer for i in range(L_l-1,-1,-1) for layer in [\n",
        "                torch.nn.Linear(dim_reduced*(L_l-i), dim_post_encoder if i==0 else dim_reduced*(L_l-i+1)),\n",
        "                torch.nn.LayerNorm(dim_post_encoder if i==0 else dim_reduced*(L_l-i+1)),\n",
        "                self.activation()\n",
        "            ]],\n",
        "            torch.nn.Unflatten(1, tuple_dec[0]),\n",
        "            *[layer for i in range(L_c-1) for layer in [\n",
        "                torch.nn.Upsample(size=tuple_dec[i+1]),\n",
        "                torch.nn.ConvTranspose2d(2**(L_c-i-1)*32, 2**(L_c-i-2)*32, kernel_size=K_comb[0], stride=K_comb[1], padding=K_comb[2]),\n",
        "                self.activation(),\n",
        "            ]],\n",
        "            torch.nn.Upsample(size=tuple_dec[-1]),\n",
        "            torch.nn.ConvTranspose2d(32, 1, kernel_size=K_comb[0], stride=K_comb[1], padding=K_comb[2]),\n",
        "            torch.nn.Sigmoid()\n",
        "        )\n",
        "\n",
        "\n",
        "\n",
        "    def forward(self, par, out):\n",
        "        Z1 = self.mlp(par)  # (batch_size, dim_reduced)\n",
        "\n",
        "        out_squeezed = out.unsqueeze(1) #(batch_size x 39 x 16) -> #(batch_size x 1 x 39 x 16)\n",
        "\n",
        "        # print(out_squeezed.shape)\n",
        "        Z2 = self.encoder(out_squeezed)  # (batch_size, dim_reduced)\n",
        "\n",
        "        Z3 = self.decoder(Z2) # (batch_siz, 1, dim_1, dim_2)\n",
        "        Z3=Z3.squeeze(1)  # (batch_siz, dim_1, dim_2)\n",
        "\n",
        "        return Z1, Z2, Z3\n",
        "\n",
        "    def predict(self, par):\n",
        "        Z = self.mlp(par)  # (dim_1_reduced * dim_2_reduced)\n",
        "        Z = self.decoder(Z)  # (batch_size, 1, dim_1, dim_2)\n",
        "        Z=Z.squeeze(1)\n",
        "        return Z"
      ],
      "metadata": {
        "id": "HAX-EZRXUBll"
      },
      "execution_count": 42,
      "outputs": []
    },
    {
      "cell_type": "code",
      "source": [],
      "metadata": {
        "id": "yIMUR21Cfoez"
      },
      "execution_count": null,
      "outputs": []
    },
    {
      "cell_type": "code",
      "source": [
        "\n",
        "model = MLP_press_ConvAutoencoder_2()\n",
        "  # Valori casuali tra 0 e 1\n",
        "z1, z2, z3= model.forward(train_params,train_vel)"
      ],
      "metadata": {
        "id": "TMi1vXFzY8xi"
      },
      "execution_count": null,
      "outputs": []
    },
    {
      "cell_type": "code",
      "source": [
        "z1.shape"
      ],
      "metadata": {
        "colab": {
          "base_uri": "https://localhost:8080/"
        },
        "id": "2NhSZdWwZFKA",
        "outputId": "88af2bcd-0897-4f26-b40d-00dcdf25c174"
      },
      "execution_count": null,
      "outputs": [
        {
          "output_type": "execute_result",
          "data": {
            "text/plain": [
              "torch.Size([1560, 128])"
            ]
          },
          "metadata": {},
          "execution_count": 34
        }
      ]
    },
    {
      "cell_type": "code",
      "source": [
        "z2.shape"
      ],
      "metadata": {
        "colab": {
          "base_uri": "https://localhost:8080/"
        },
        "id": "ggE3gpJhZGsL",
        "outputId": "4466d6fa-64fd-4fd1-df90-fde17acd45a7"
      },
      "execution_count": null,
      "outputs": [
        {
          "output_type": "execute_result",
          "data": {
            "text/plain": [
              "torch.Size([1560, 128])"
            ]
          },
          "metadata": {},
          "execution_count": 47
        }
      ]
    },
    {
      "cell_type": "code",
      "source": [
        "z3.shape"
      ],
      "metadata": {
        "colab": {
          "base_uri": "https://localhost:8080/"
        },
        "id": "D_YzJP87ZJbM",
        "outputId": "8b8471f0-d791-48e5-ef65-ce042177307a"
      },
      "execution_count": null,
      "outputs": [
        {
          "output_type": "execute_result",
          "data": {
            "text/plain": [
              "torch.Size([1560, 39, 16])"
            ]
          },
          "metadata": {},
          "execution_count": 48
        }
      ]
    },
    {
      "cell_type": "code",
      "execution_count": 58,
      "metadata": {
        "id": "I141B3VFW7DW"
      },
      "outputs": [],
      "source": [
        "# vel_space_mean=vel_space_mean.to('cuda')\n",
        "# vel_space_std=vel_space_std.to('cuda')\n",
        "vel_space_min=vel_space_min.to('cuda')\n",
        "vel_space_max=vel_space_max.to('cuda')\n",
        "\n",
        "#TODO: normalize input of encoder\n",
        "\n",
        "def train_encoder_decoder_epoch(model, device, train_loader, optimizer, epoch, criterion):\n",
        "    model.train()  # Important set model to train mode (affects dropout, batch norm etc)\n",
        "\n",
        "    loss_history = []\n",
        "    accuracy_history = []\n",
        "    loss_history_enc_dec = []\n",
        "    loss_history_mlp_encoder = []\n",
        "    for batch_idx, (data, target) in enumerate(train_loader):\n",
        "\n",
        "\n",
        "        data=data.to(device)\n",
        "        target=target.to(device)\n",
        "\n",
        "        Z1, Z2, Z3 = model.forward(data, target)\n",
        "\n",
        "        assert Z3.shape == target.shape\n",
        "        assert Z1.shape == Z2.shape\n",
        "\n",
        "        # ###########################\n",
        "        # target=target*vel_space_std+vel_space_mean\n",
        "        # Z3=Z3*vel_space_std+vel_space_mean\n",
        "        # ###########################\n",
        "        target=target*(1.1*vel_space_max - 0.9*vel_space_min)+0.9*vel_space_min\n",
        "        Z3=Z3*(1.1*vel_space_max - 0.9*vel_space_min)+0.9*vel_space_min\n",
        "        ##############################\n",
        "\n",
        "        Z3_flattened = Z3.flatten(1)\n",
        "        target_fattened = target.flatten(1)\n",
        "\n",
        "        loss_enc_dec =  criterion(target_fattened, Z3_flattened)\n",
        "        loss_mlp_encoder = criterion(Z1, Z2)\n",
        "\n",
        "\n",
        "        loss =  loss_enc_dec + loss_mlp_encoder\n",
        "\n",
        "        optimizer.zero_grad()  # Zero the gradients\n",
        "\n",
        "        loss.backward()        # Backpropagation\n",
        "        optimizer.step()       # Update the weights\n",
        "\n",
        "        loss_history_enc_dec.append(loss_enc_dec.item())\n",
        "        loss_history_mlp_encoder.append(loss_mlp_encoder.item())\n",
        "        loss_history.append(loss.item())\n",
        "\n",
        "    return loss_history, loss_history_enc_dec, loss_history_mlp_encoder\n",
        "\n",
        "@torch.no_grad()\n",
        "def validate(model, device, val_loader, criterion):\n",
        "    model.eval()  # Important set model to eval mode (affects dropout, batch norm etc)\n",
        "    test_loss = 0\n",
        "    test_rel_loss = 0\n",
        "    for data, target in val_loader:\n",
        "\n",
        "        data, target = data.to(device), target.to(device)\n",
        "        output = model.predict(data)\n",
        "        assert output.shape == target.shape\n",
        "\n",
        "        # #####################\n",
        "        # output=output*vel_space_std+vel_space_mean\n",
        "        # target=target*vel_space_std+vel_space_mean\n",
        "        # #####################\n",
        "        output=output*(1.1*vel_space_max - 0.9*vel_space_min)+0.9*vel_space_min\n",
        "        target=target*(1.1*vel_space_max - 0.9*vel_space_min)+0.9*vel_space_min\n",
        "        ##############################\n",
        "\n",
        "        output_flattened = output.flatten(1)\n",
        "        target_flattened = target.flatten(1)\n",
        "        test_loss += criterion(output_flattened, target_flattened).item() * len(data)\n",
        "\n",
        "        test_rel_loss += ((torch.norm((output-target).view(output.shape[0], -1), dim=1, p=2)/torch.norm((target).view(output.shape[0], -1), dim=1, p=2)).sum()).item()\n",
        "    test_loss /= len(val_loader.dataset)\n",
        "    test_rel_loss /= len(val_loader.dataset)\n",
        "\n",
        "    print(\n",
        "         \"Test set: Average loss: {:.4f} Average relative error: {:.4f}\".format(\n",
        "           test_loss, test_rel_loss\n",
        "        )\n",
        "    )\n",
        "    return test_loss,test_rel_loss\n",
        "\n",
        "\n",
        "def run_vel_training_encoder_decoder(model_encoder_decoder,num_epochs, lr, batch_size, device=\"cuda\"):\n",
        "\n",
        "    train_vel_DataSet = Fluid_Dataset(train_params, train_vel)\n",
        "    test_vel_DataSet = Fluid_Dataset(test_params, test_vel)\n",
        "\n",
        "    train_loader = torch.utils.data.DataLoader(\n",
        "        train_vel_DataSet,\n",
        "        batch_size=batch_size,\n",
        "        shuffle=True,  # Can be important for training\n",
        "        pin_memory=torch.cuda.is_available(),\n",
        "        drop_last=True,\n",
        "        num_workers=2,\n",
        "    )\n",
        "    val_loader = torch.utils.data.DataLoader(\n",
        "        test_vel_DataSet,\n",
        "        batch_size=batch_size,\n",
        "    )\n",
        "\n",
        "    # ===== Model, Optimizer and Criterion =====\n",
        "    model_encoder_decoder = model_encoder_decoder.to(device=device)\n",
        "    optimizer_encoder_decoder  = torch.optim.Adam(\n",
        "        model_encoder_decoder.parameters(),\n",
        "        lr=lr,\n",
        "        weight_decay=1e-3\n",
        "    )\n",
        "    criterion_mlp = torch.nn.functional.mse_loss\n",
        "\n",
        "    # ===== Train Model =====\n",
        "    train_loss_history = []\n",
        "    train_loss_enc_dec_history = []\n",
        "    train_loss_mlp_enc_history = []\n",
        "    val_loss_history = []\n",
        "    val_rel_loss_history = []\n",
        "\n",
        "    for epoch in range(1, num_epochs + 1):\n",
        "        train_loss, trai_loss_enc_dec, train_loss_mlp_enc = train_encoder_decoder_epoch(\n",
        "            model_encoder_decoder, device, train_loader, optimizer_encoder_decoder, epoch, criterion_mlp\n",
        "        )\n",
        "        print(\"LOSS_ENC: \", sum(trai_loss_enc_dec)/len(trai_loss_enc_dec), \" LOSS_MLP: \", sum(train_loss_mlp_enc)/len(train_loss_mlp_enc))\n",
        "        train_loss_history.extend(train_loss)\n",
        "        train_loss_enc_dec_history.extend(trai_loss_enc_dec)\n",
        "        train_loss_mlp_enc_history.extend(train_loss_mlp_enc)\n",
        "\n",
        "        val_loss,val_rel_loss= validate(model_encoder_decoder, device, val_loader, criterion_mlp)\n",
        "        val_loss_history.append(val_loss)\n",
        "        val_rel_loss_history.append(val_rel_loss)\n",
        "\n",
        "\n",
        "    # ===== Plot training curves =====\n",
        "    n_train = len(train_loss_history)\n",
        "    t_train = num_epochs * np.arange(n_train) / n_train\n",
        "    t_val = np.arange(1, num_epochs + 1)\n",
        "\n",
        "    plt.figure()\n",
        "    plt.plot(t_train, train_loss_history, label=\"Train\")\n",
        "    plt.plot(t_val, val_loss_history, label=\"Val\")\n",
        "    plt.legend()\n",
        "    plt.xlabel(\"Epoch\")\n",
        "    plt.ylabel(\"Loss\")\n",
        "\n",
        "    plt.figure()\n",
        "    plt.plot(t_train, train_loss_enc_dec_history, label=\"Train enc dec\")\n",
        "    plt.plot(t_train, train_loss_mlp_enc_history, label=\"Train mlp enc\")\n",
        "    plt.legend()\n",
        "    plt.xlabel(\"Epoch\")\n",
        "    plt.ylabel(\"Loss\")\n",
        "\n",
        "    plt.figure()\n",
        "    plt.plot(t_val, val_rel_loss_history, label=\"Val rel err\")\n",
        "    plt.legend()\n",
        "    plt.xlabel(\"Epoch\")\n",
        "    plt.ylabel(\"rel err\")\n",
        "\n",
        "    return model_encoder_decoder, val_loss_history[-1], val_rel_loss_history[-1]\n"
      ]
    },
    {
      "cell_type": "code",
      "source": [
        "activation=\"gelu\" #\"relu\" o \"gelu\"\n",
        "pooling=\"avg\" #\"max\" o \"avg\"\n",
        "K_comb=[3,1,1] #o K_comb=[5,1,2]\n",
        "L_c=3  #1,2, o 3\n",
        "L_l=1  #1,2, o 3\n",
        "\n",
        "batch_size=32\n",
        "num_epochs=200\n",
        "lr=0.0001\n",
        "#device=torch.device('cpu')\n",
        "device = torch.device('cuda' if torch.cuda.is_available() else 'cpu')\n",
        "\n",
        "model_trained,  val_loss, val_rel_loss = run_vel_training_encoder_decoder(MLP_press_ConvAutoencoder_3(activation,pooling,K_comb,L_c,L_l),num_epochs, lr, batch_size, device)\n"
      ],
      "metadata": {
        "colab": {
          "base_uri": "https://localhost:8080/",
          "height": 1000
        },
        "id": "0Ijy1f4reSHp",
        "outputId": "c1cbbbd7-3af4-45ab-819d-2ee2070229ce"
      },
      "execution_count": 57,
      "outputs": [
        {
          "output_type": "stream",
          "name": "stdout",
          "text": [
            "LOSS_ENC:  4.690856928626697  LOSS_MLP:  70.16643819212914\n",
            "Test set: Average loss: 5.0433 Average relative error: 0.2927\n",
            "LOSS_ENC:  4.591498340169589  LOSS_MLP:  2.2441919868191085\n",
            "Test set: Average loss: 4.9328 Average relative error: 0.2889\n",
            "LOSS_ENC:  4.530088211099307  LOSS_MLP:  1.0079742545882862\n",
            "Test set: Average loss: 4.8659 Average relative error: 0.2867\n",
            "LOSS_ENC:  4.479063491026561  LOSS_MLP:  0.6448453068733215\n",
            "Test set: Average loss: 4.8341 Average relative error: 0.2854\n",
            "LOSS_ENC:  4.46489963432153  LOSS_MLP:  0.46684829766551655\n",
            "Test set: Average loss: 4.8244 Average relative error: 0.2852\n",
            "LOSS_ENC:  4.454432914654414  LOSS_MLP:  0.3608557730913162\n",
            "Test set: Average loss: 4.8098 Average relative error: 0.2847\n",
            "LOSS_ENC:  4.414927095174789  LOSS_MLP:  0.29503654936949414\n",
            "Test set: Average loss: 4.7793 Average relative error: 0.2839\n",
            "LOSS_ENC:  4.425583059589068  LOSS_MLP:  0.2918265163898468\n",
            "Test set: Average loss: 4.7391 Average relative error: 0.2828\n",
            "LOSS_ENC:  4.372853383421898  LOSS_MLP:  0.2528101537997524\n",
            "Test set: Average loss: 4.7141 Average relative error: 0.2822\n",
            "LOSS_ENC:  4.277316575249036  LOSS_MLP:  0.24910298145065704\n",
            "Test set: Average loss: 4.5298 Average relative error: 0.2768\n",
            "LOSS_ENC:  4.207536473870277  LOSS_MLP:  0.22453171635667482\n",
            "Test set: Average loss: 4.5140 Average relative error: 0.2764\n",
            "LOSS_ENC:  3.8700784097115197  LOSS_MLP:  0.20886677224189043\n",
            "Test set: Average loss: 4.1446 Average relative error: 0.2658\n",
            "LOSS_ENC:  3.1774772902329764  LOSS_MLP:  0.18964333335558572\n",
            "Test set: Average loss: 2.9506 Average relative error: 0.2269\n",
            "LOSS_ENC:  2.685472716887792  LOSS_MLP:  0.1801339794571201\n",
            "Test set: Average loss: 2.6781 Average relative error: 0.2165\n",
            "LOSS_ENC:  2.3581884975234666  LOSS_MLP:  0.16180414644380411\n",
            "Test set: Average loss: 2.4103 Average relative error: 0.2056\n",
            "LOSS_ENC:  2.121600712339083  LOSS_MLP:  0.14146867487579584\n",
            "Test set: Average loss: 2.2271 Average relative error: 0.1979\n",
            "LOSS_ENC:  2.1070418432354927  LOSS_MLP:  0.12908230628818274\n",
            "Test set: Average loss: 2.1998 Average relative error: 0.1966\n",
            "LOSS_ENC:  1.9644583314657211  LOSS_MLP:  0.11937414637456338\n",
            "Test set: Average loss: 2.1099 Average relative error: 0.1927\n",
            "LOSS_ENC:  2.0027830923597016  LOSS_MLP:  0.11170702784632643\n",
            "Test set: Average loss: 2.1095 Average relative error: 0.1924\n",
            "LOSS_ENC:  1.9245148996512096  LOSS_MLP:  0.10633874063690503\n",
            "Test set: Average loss: 2.0328 Average relative error: 0.1890\n",
            "LOSS_ENC:  1.8480539297064145  LOSS_MLP:  0.09767503291368484\n",
            "Test set: Average loss: 2.0125 Average relative error: 0.1879\n",
            "LOSS_ENC:  1.9065835550427437  LOSS_MLP:  0.09664547567566235\n",
            "Test set: Average loss: 2.0056 Average relative error: 0.1875\n",
            "LOSS_ENC:  1.8087286402781804  LOSS_MLP:  0.09098435705527663\n",
            "Test set: Average loss: 1.9393 Average relative error: 0.1846\n",
            "LOSS_ENC:  1.7636360724767048  LOSS_MLP:  0.08522598057364424\n",
            "Test set: Average loss: 1.9377 Average relative error: 0.1842\n",
            "LOSS_ENC:  1.7411392728487651  LOSS_MLP:  0.08375358069315553\n",
            "Test set: Average loss: 1.9160 Average relative error: 0.1832\n",
            "LOSS_ENC:  1.7576411714156468  LOSS_MLP:  0.08754118997603655\n",
            "Test set: Average loss: 1.8959 Average relative error: 0.1824\n",
            "LOSS_ENC:  1.6979246214032173  LOSS_MLP:  0.07959952065721154\n",
            "Test set: Average loss: 1.8902 Average relative error: 0.1822\n",
            "LOSS_ENC:  1.6628611907362938  LOSS_MLP:  0.0800138427875936\n",
            "Test set: Average loss: 1.8464 Average relative error: 0.1798\n",
            "LOSS_ENC:  1.6602814495563507  LOSS_MLP:  0.0816017862719794\n",
            "Test set: Average loss: 1.8387 Average relative error: 0.1795\n",
            "LOSS_ENC:  1.6291505073507626  LOSS_MLP:  0.08117924227068822\n",
            "Test set: Average loss: 1.8337 Average relative error: 0.1791\n",
            "LOSS_ENC:  1.548105811079343  LOSS_MLP:  0.07899290199081103\n",
            "Test set: Average loss: 1.7833 Average relative error: 0.1767\n",
            "LOSS_ENC:  1.5362039009730022  LOSS_MLP:  0.08048088615760207\n",
            "Test set: Average loss: 1.7634 Average relative error: 0.1756\n",
            "LOSS_ENC:  1.4604644477367401  LOSS_MLP:  0.08051534152279298\n",
            "Test set: Average loss: 1.7301 Average relative error: 0.1738\n",
            "LOSS_ENC:  1.4019229486584663  LOSS_MLP:  0.07892542394498984\n",
            "Test set: Average loss: 1.7043 Average relative error: 0.1724\n",
            "LOSS_ENC:  1.4045784249901772  LOSS_MLP:  0.08485399062434833\n",
            "Test set: Average loss: 1.6981 Average relative error: 0.1721\n",
            "LOSS_ENC:  1.3508352289597194  LOSS_MLP:  0.0849936103137831\n",
            "Test set: Average loss: 1.6882 Average relative error: 0.1719\n",
            "LOSS_ENC:  1.3093620811899502  LOSS_MLP:  0.08009892624492447\n",
            "Test set: Average loss: 1.6415 Average relative error: 0.1689\n",
            "LOSS_ENC:  1.3106863064070542  LOSS_MLP:  0.08232032492135961\n",
            "Test set: Average loss: 1.6860 Average relative error: 0.1712\n",
            "LOSS_ENC:  1.3183436592419941  LOSS_MLP:  0.09331469175716241\n",
            "Test set: Average loss: 1.6170 Average relative error: 0.1676\n",
            "LOSS_ENC:  1.2114996239542961  LOSS_MLP:  0.08095959837858875\n",
            "Test set: Average loss: 1.6061 Average relative error: 0.1669\n",
            "LOSS_ENC:  1.1540671288967133  LOSS_MLP:  0.07786522169287007\n",
            "Test set: Average loss: 1.5869 Average relative error: 0.1659\n",
            "LOSS_ENC:  1.159605880578359  LOSS_MLP:  0.08859502974276741\n",
            "Test set: Average loss: 1.5794 Average relative error: 0.1651\n",
            "LOSS_ENC:  1.085025245944659  LOSS_MLP:  0.07609004837771256\n",
            "Test set: Average loss: 1.5374 Average relative error: 0.1629\n",
            "LOSS_ENC:  1.0371138267219067  LOSS_MLP:  0.07253481509784858\n",
            "Test set: Average loss: 1.5300 Average relative error: 0.1625\n",
            "LOSS_ENC:  1.0122376432021458  LOSS_MLP:  0.07625900643567245\n",
            "Test set: Average loss: 1.5156 Average relative error: 0.1618\n",
            "LOSS_ENC:  1.015747827788194  LOSS_MLP:  0.07513060110310714\n",
            "Test set: Average loss: 1.5072 Average relative error: 0.1614\n",
            "LOSS_ENC:  1.006886288523674  LOSS_MLP:  0.07610125591357549\n",
            "Test set: Average loss: 1.5141 Average relative error: 0.1616\n",
            "LOSS_ENC:  0.9325706325471401  LOSS_MLP:  0.07261731809315582\n",
            "Test set: Average loss: 1.4823 Average relative error: 0.1600\n",
            "LOSS_ENC:  0.9300139757494131  LOSS_MLP:  0.07665205498536427\n",
            "Test set: Average loss: 1.4571 Average relative error: 0.1586\n",
            "LOSS_ENC:  0.87250941619277  LOSS_MLP:  0.07210207443373899\n",
            "Test set: Average loss: 1.4431 Average relative error: 0.1574\n",
            "LOSS_ENC:  0.8582702105244001  LOSS_MLP:  0.07113839437564214\n",
            "Test set: Average loss: 1.4510 Average relative error: 0.1578\n",
            "LOSS_ENC:  0.8359685068329176  LOSS_MLP:  0.07306986441835761\n",
            "Test set: Average loss: 1.4344 Average relative error: 0.1571\n",
            "LOSS_ENC:  0.8016211340824763  LOSS_MLP:  0.07080063534279664\n",
            "Test set: Average loss: 1.4015 Average relative error: 0.1554\n",
            "LOSS_ENC:  0.7832257511715094  LOSS_MLP:  0.06917218375019729\n",
            "Test set: Average loss: 1.3933 Average relative error: 0.1549\n",
            "LOSS_ENC:  0.7464998376866182  LOSS_MLP:  0.0680333161726594\n",
            "Test set: Average loss: 1.3985 Average relative error: 0.1547\n",
            "LOSS_ENC:  0.698248582581679  LOSS_MLP:  0.06495554589976867\n",
            "Test set: Average loss: 1.3661 Average relative error: 0.1534\n",
            "LOSS_ENC:  0.7126746997237206  LOSS_MLP:  0.06964168177607159\n",
            "Test set: Average loss: 1.3653 Average relative error: 0.1536\n",
            "LOSS_ENC:  0.6768766182164351  LOSS_MLP:  0.06675630016252398\n",
            "Test set: Average loss: 1.3512 Average relative error: 0.1526\n",
            "LOSS_ENC:  0.7044433852036794  LOSS_MLP:  0.07001142320223153\n",
            "Test set: Average loss: 1.3320 Average relative error: 0.1512\n",
            "LOSS_ENC:  0.6311228933433691  LOSS_MLP:  0.06805739381040136\n",
            "Test set: Average loss: 1.3085 Average relative error: 0.1500\n",
            "LOSS_ENC:  0.5697677390029033  LOSS_MLP:  0.06055402592755854\n",
            "Test set: Average loss: 1.3485 Average relative error: 0.1518\n",
            "LOSS_ENC:  0.5588866528123617  LOSS_MLP:  0.060956464847549796\n",
            "Test set: Average loss: 1.2667 Average relative error: 0.1470\n",
            "LOSS_ENC:  0.5683276963730653  LOSS_MLP:  0.05940812088859578\n",
            "Test set: Average loss: 1.3072 Average relative error: 0.1500\n",
            "LOSS_ENC:  0.5701548817257086  LOSS_MLP:  0.06243639633369943\n",
            "Test set: Average loss: 1.2669 Average relative error: 0.1467\n",
            "LOSS_ENC:  0.51382248600324  LOSS_MLP:  0.05708594418441256\n",
            "Test set: Average loss: 1.2499 Average relative error: 0.1462\n",
            "LOSS_ENC:  0.5302482768893242  LOSS_MLP:  0.059380543107787766\n",
            "Test set: Average loss: 1.2582 Average relative error: 0.1466\n",
            "LOSS_ENC:  0.4768062084913254  LOSS_MLP:  0.05510102965248128\n",
            "Test set: Average loss: 1.2360 Average relative error: 0.1448\n",
            "LOSS_ENC:  0.4787884671241045  LOSS_MLP:  0.054269520876308285\n",
            "Test set: Average loss: 1.2279 Average relative error: 0.1442\n",
            "LOSS_ENC:  0.46123878968258697  LOSS_MLP:  0.05332381588717302\n",
            "Test set: Average loss: 1.2137 Average relative error: 0.1436\n",
            "LOSS_ENC:  0.4512383993715048  LOSS_MLP:  0.05202435213141143\n",
            "Test set: Average loss: 1.2040 Average relative error: 0.1432\n",
            "LOSS_ENC:  0.4398517329245806  LOSS_MLP:  0.051930746684471764\n",
            "Test set: Average loss: 1.1910 Average relative error: 0.1424\n",
            "LOSS_ENC:  0.44782078824937344  LOSS_MLP:  0.05129881389439106\n",
            "Test set: Average loss: 1.1999 Average relative error: 0.1429\n",
            "LOSS_ENC:  0.42743009390930337  LOSS_MLP:  0.05063336668536067\n",
            "Test set: Average loss: 1.1997 Average relative error: 0.1427\n",
            "LOSS_ENC:  0.40416929374138516  LOSS_MLP:  0.0497625609083722\n",
            "Test set: Average loss: 1.2014 Average relative error: 0.1434\n",
            "LOSS_ENC:  0.38576112501323223  LOSS_MLP:  0.0484768464230001\n",
            "Test set: Average loss: 1.1413 Average relative error: 0.1392\n",
            "LOSS_ENC:  0.384319390480717  LOSS_MLP:  0.04641984992971023\n",
            "Test set: Average loss: 1.1586 Average relative error: 0.1400\n",
            "LOSS_ENC:  0.379504752655824  LOSS_MLP:  0.04587604640983045\n",
            "Test set: Average loss: 1.1649 Average relative error: 0.1401\n",
            "LOSS_ENC:  0.3590763012568156  LOSS_MLP:  0.04489218032297989\n",
            "Test set: Average loss: 1.1477 Average relative error: 0.1401\n",
            "LOSS_ENC:  0.35705169787009555  LOSS_MLP:  0.043836650593827166\n",
            "Test set: Average loss: 1.1368 Average relative error: 0.1389\n",
            "LOSS_ENC:  0.34913830272853374  LOSS_MLP:  0.0442216582596302\n",
            "Test set: Average loss: 1.1067 Average relative error: 0.1365\n",
            "LOSS_ENC:  0.35067179426550865  LOSS_MLP:  0.04408949784313639\n",
            "Test set: Average loss: 1.1190 Average relative error: 0.1373\n",
            "LOSS_ENC:  0.34918259891370934  LOSS_MLP:  0.044113544281572104\n",
            "Test set: Average loss: 1.0979 Average relative error: 0.1364\n",
            "LOSS_ENC:  0.33364094110826653  LOSS_MLP:  0.042660065771391\n",
            "Test set: Average loss: 1.1103 Average relative error: 0.1370\n",
            "LOSS_ENC:  0.3147105661531289  LOSS_MLP:  0.041079343762248755\n",
            "Test set: Average loss: 1.0967 Average relative error: 0.1363\n",
            "LOSS_ENC:  0.3352608345448971  LOSS_MLP:  0.04291146031270424\n",
            "Test set: Average loss: 1.0975 Average relative error: 0.1368\n",
            "LOSS_ENC:  0.31290617771446705  LOSS_MLP:  0.04082890242959062\n",
            "Test set: Average loss: 1.0811 Average relative error: 0.1357\n",
            "LOSS_ENC:  0.30540540783355635  LOSS_MLP:  0.04009493696503341\n",
            "Test set: Average loss: 1.0807 Average relative error: 0.1358\n",
            "LOSS_ENC:  0.30671712414671976  LOSS_MLP:  0.04130900977179408\n",
            "Test set: Average loss: 1.0735 Average relative error: 0.1349\n",
            "LOSS_ENC:  0.30765143657724064  LOSS_MLP:  0.04183372024757167\n",
            "Test set: Average loss: 1.0570 Average relative error: 0.1337\n",
            "LOSS_ENC:  0.2742658285424113  LOSS_MLP:  0.037803109657640256\n",
            "Test set: Average loss: 1.0391 Average relative error: 0.1321\n",
            "LOSS_ENC:  0.2941272302220265  LOSS_MLP:  0.037977448548190296\n",
            "Test set: Average loss: 1.0427 Average relative error: 0.1325\n",
            "LOSS_ENC:  0.28508365402619046  LOSS_MLP:  0.03830731811467558\n",
            "Test set: Average loss: 1.0662 Average relative error: 0.1340\n",
            "LOSS_ENC:  0.2787422326703866  LOSS_MLP:  0.03723586001433432\n",
            "Test set: Average loss: 1.0324 Average relative error: 0.1320\n",
            "LOSS_ENC:  0.2578406383593877  LOSS_MLP:  0.03621712563714633\n",
            "Test set: Average loss: 1.0265 Average relative error: 0.1317\n",
            "LOSS_ENC:  0.277149872854352  LOSS_MLP:  0.03769506514072418\n",
            "Test set: Average loss: 1.0773 Average relative error: 0.1346\n",
            "LOSS_ENC:  0.25852907666315633  LOSS_MLP:  0.03662042296491563\n",
            "Test set: Average loss: 1.0178 Average relative error: 0.1309\n",
            "LOSS_ENC:  0.24822039374460778  LOSS_MLP:  0.03483702087153991\n",
            "Test set: Average loss: 1.0301 Average relative error: 0.1317\n",
            "LOSS_ENC:  0.2622905510167281  LOSS_MLP:  0.035231818251001336\n",
            "Test set: Average loss: 1.0210 Average relative error: 0.1316\n",
            "LOSS_ENC:  0.34108334593474865  LOSS_MLP:  0.04622299782931805\n",
            "Test set: Average loss: 1.0168 Average relative error: 0.1310\n",
            "LOSS_ENC:  0.2387560751910011  LOSS_MLP:  0.03566109261009842\n",
            "Test set: Average loss: 0.9764 Average relative error: 0.1288\n",
            "LOSS_ENC:  0.229307952336967  LOSS_MLP:  0.03397744203296801\n",
            "Test set: Average loss: 0.9918 Average relative error: 0.1285\n",
            "LOSS_ENC:  0.2261066415036718  LOSS_MLP:  0.03354725823737681\n",
            "Test set: Average loss: 1.0337 Average relative error: 0.1314\n",
            "LOSS_ENC:  0.21950738504529  LOSS_MLP:  0.03236333226474623\n",
            "Test set: Average loss: 0.9805 Average relative error: 0.1282\n",
            "LOSS_ENC:  0.21851573046296835  LOSS_MLP:  0.031413684987152614\n",
            "Test set: Average loss: 0.9538 Average relative error: 0.1265\n",
            "LOSS_ENC:  0.22626229748129845  LOSS_MLP:  0.032001329973960914\n",
            "Test set: Average loss: 0.9877 Average relative error: 0.1289\n",
            "LOSS_ENC:  0.23207019238422313  LOSS_MLP:  0.03344192398556819\n",
            "Test set: Average loss: 0.9326 Average relative error: 0.1252\n",
            "LOSS_ENC:  0.21493934467434883  LOSS_MLP:  0.030846503951276343\n",
            "Test set: Average loss: 0.9220 Average relative error: 0.1249\n",
            "LOSS_ENC:  0.23956469353288412  LOSS_MLP:  0.032435099206243954\n",
            "Test set: Average loss: 0.9396 Average relative error: 0.1260\n",
            "LOSS_ENC:  0.20855234625438848  LOSS_MLP:  0.031362542300485075\n",
            "Test set: Average loss: 0.9153 Average relative error: 0.1244\n",
            "LOSS_ENC:  0.20574569826324782  LOSS_MLP:  0.030264752994601924\n",
            "Test set: Average loss: 0.9223 Average relative error: 0.1250\n",
            "LOSS_ENC:  0.22762396031369767  LOSS_MLP:  0.03276302312345555\n",
            "Test set: Average loss: 0.9156 Average relative error: 0.1241\n",
            "LOSS_ENC:  0.20973594797154269  LOSS_MLP:  0.03168983470338086\n",
            "Test set: Average loss: 0.9047 Average relative error: 0.1237\n",
            "LOSS_ENC:  0.19953567131112018  LOSS_MLP:  0.030001725574644904\n",
            "Test set: Average loss: 0.9235 Average relative error: 0.1247\n",
            "LOSS_ENC:  0.21029987465590239  LOSS_MLP:  0.03126978990621865\n",
            "Test set: Average loss: 0.9101 Average relative error: 0.1241\n",
            "LOSS_ENC:  0.19953803221384683  LOSS_MLP:  0.0301407187168176\n",
            "Test set: Average loss: 0.8878 Average relative error: 0.1225\n",
            "LOSS_ENC:  0.18684050099303326  LOSS_MLP:  0.028495187871158123\n",
            "Test set: Average loss: 0.9134 Average relative error: 0.1241\n",
            "LOSS_ENC:  0.2399440494676431  LOSS_MLP:  0.03393641459600379\n",
            "Test set: Average loss: 0.8834 Average relative error: 0.1219\n",
            "LOSS_ENC:  0.21678427327424288  LOSS_MLP:  0.032963214558549225\n",
            "Test set: Average loss: 0.8732 Average relative error: 0.1216\n",
            "LOSS_ENC:  0.18810578777144352  LOSS_MLP:  0.030066287145018578\n",
            "Test set: Average loss: 0.8904 Average relative error: 0.1219\n",
            "LOSS_ENC:  0.1822315715253353  LOSS_MLP:  0.02891253711034854\n",
            "Test set: Average loss: 0.8413 Average relative error: 0.1188\n",
            "LOSS_ENC:  0.19023674819618464  LOSS_MLP:  0.030246367406410474\n",
            "Test set: Average loss: 0.8406 Average relative error: 0.1188\n",
            "LOSS_ENC:  0.18151659922053417  LOSS_MLP:  0.028387216075013082\n",
            "Test set: Average loss: 0.8449 Average relative error: 0.1187\n",
            "LOSS_ENC:  0.16878447153915963  LOSS_MLP:  0.02638795964109401\n",
            "Test set: Average loss: 0.8529 Average relative error: 0.1194\n",
            "LOSS_ENC:  0.16548885715504488  LOSS_MLP:  0.025887977642317612\n",
            "Test set: Average loss: 0.8626 Average relative error: 0.1196\n",
            "LOSS_ENC:  0.1675604141006867  LOSS_MLP:  0.02567261818330735\n",
            "Test set: Average loss: 0.8309 Average relative error: 0.1181\n",
            "LOSS_ENC:  0.18127239650736252  LOSS_MLP:  0.02616926693978409\n",
            "Test set: Average loss: 0.8526 Average relative error: 0.1194\n",
            "LOSS_ENC:  0.19084519520401955  LOSS_MLP:  0.027332742582075298\n",
            "Test set: Average loss: 0.9157 Average relative error: 0.1240\n",
            "LOSS_ENC:  0.2733987870936592  LOSS_MLP:  0.048353923368267715\n",
            "Test set: Average loss: 0.8473 Average relative error: 0.1188\n",
            "LOSS_ENC:  0.1607620446011424  LOSS_MLP:  0.02834885676080982\n",
            "Test set: Average loss: 0.8026 Average relative error: 0.1164\n",
            "LOSS_ENC:  0.15348456551631293  LOSS_MLP:  0.026023118291050196\n",
            "Test set: Average loss: 0.7979 Average relative error: 0.1157\n",
            "LOSS_ENC:  0.15727440640330315  LOSS_MLP:  0.02487590489909053\n",
            "Test set: Average loss: 0.7842 Average relative error: 0.1151\n",
            "LOSS_ENC:  0.1554781636223197  LOSS_MLP:  0.0252571275147299\n",
            "Test set: Average loss: 0.7944 Average relative error: 0.1147\n",
            "LOSS_ENC:  0.15494381543248892  LOSS_MLP:  0.024729369247021776\n",
            "Test set: Average loss: 0.7582 Average relative error: 0.1128\n",
            "LOSS_ENC:  0.1689109243452549  LOSS_MLP:  0.025558291818015277\n",
            "Test set: Average loss: 0.8020 Average relative error: 0.1155\n",
            "LOSS_ENC:  0.15180927887558937  LOSS_MLP:  0.024275000517566998\n",
            "Test set: Average loss: 0.7528 Average relative error: 0.1124\n",
            "LOSS_ENC:  0.152459431750079  LOSS_MLP:  0.02398032295362403\n",
            "Test set: Average loss: 0.7637 Average relative error: 0.1130\n",
            "LOSS_ENC:  0.15181607644384107  LOSS_MLP:  0.02400053428330769\n",
            "Test set: Average loss: 0.7353 Average relative error: 0.1114\n",
            "LOSS_ENC:  0.1794701151860257  LOSS_MLP:  0.02538118332934876\n",
            "Test set: Average loss: 0.7538 Average relative error: 0.1128\n",
            "LOSS_ENC:  0.15729282703250647  LOSS_MLP:  0.025093175354413688\n",
            "Test set: Average loss: 0.7337 Average relative error: 0.1112\n",
            "LOSS_ENC:  0.15332743478938937  LOSS_MLP:  0.02415872528217733\n",
            "Test set: Average loss: 0.7332 Average relative error: 0.1108\n",
            "LOSS_ENC:  0.16693272969375053  LOSS_MLP:  0.026242150032582384\n",
            "Test set: Average loss: 0.7594 Average relative error: 0.1128\n",
            "LOSS_ENC:  0.14616258814930916  LOSS_MLP:  0.023735461213315528\n",
            "Test set: Average loss: 0.7255 Average relative error: 0.1097\n",
            "LOSS_ENC:  0.13701996734986702  LOSS_MLP:  0.022157564487618703\n",
            "Test set: Average loss: 0.7031 Average relative error: 0.1086\n",
            "LOSS_ENC:  0.14025790570303798  LOSS_MLP:  0.021471672070523102\n",
            "Test set: Average loss: 0.6944 Average relative error: 0.1076\n",
            "LOSS_ENC:  0.1421660385094583  LOSS_MLP:  0.022500281144554417\n",
            "Test set: Average loss: 0.6949 Average relative error: 0.1079\n",
            "LOSS_ENC:  0.16224894703676304  LOSS_MLP:  0.024040043237619102\n",
            "Test set: Average loss: 0.6857 Average relative error: 0.1072\n",
            "LOSS_ENC:  0.13310445457076034  LOSS_MLP:  0.02192702330648899\n",
            "Test set: Average loss: 0.6695 Average relative error: 0.1058\n",
            "LOSS_ENC:  0.14662664957965413  LOSS_MLP:  0.02219116788667937\n",
            "Test set: Average loss: 0.7050 Average relative error: 0.1079\n",
            "LOSS_ENC:  0.12699707364663482  LOSS_MLP:  0.02035491537147512\n",
            "Test set: Average loss: 0.6821 Average relative error: 0.1061\n",
            "LOSS_ENC:  0.13713196913401285  LOSS_MLP:  0.020906685929124553\n",
            "Test set: Average loss: 0.7009 Average relative error: 0.1080\n",
            "LOSS_ENC:  0.1751121279473106  LOSS_MLP:  0.026744928715440135\n",
            "Test set: Average loss: 0.6791 Average relative error: 0.1063\n",
            "LOSS_ENC:  0.13096090437223515  LOSS_MLP:  0.022065964799063902\n",
            "Test set: Average loss: 0.6421 Average relative error: 0.1035\n",
            "LOSS_ENC:  0.127123201576372  LOSS_MLP:  0.02060011374608924\n",
            "Test set: Average loss: 0.6188 Average relative error: 0.1017\n",
            "LOSS_ENC:  0.13185095430041352  LOSS_MLP:  0.020812955452129245\n",
            "Test set: Average loss: 0.6423 Average relative error: 0.1038\n",
            "LOSS_ENC:  0.12747943416858712  LOSS_MLP:  0.020049478742294014\n",
            "Test set: Average loss: 0.6396 Average relative error: 0.1035\n",
            "LOSS_ENC:  0.12797659045706192  LOSS_MLP:  0.019769106719953317\n",
            "Test set: Average loss: 0.6409 Average relative error: 0.1031\n",
            "LOSS_ENC:  0.12625614507123828  LOSS_MLP:  0.019275017257314175\n",
            "Test set: Average loss: 0.5912 Average relative error: 0.0996\n",
            "LOSS_ENC:  0.11967403333013256  LOSS_MLP:  0.018713152637549985\n",
            "Test set: Average loss: 0.6108 Average relative error: 0.1007\n",
            "LOSS_ENC:  0.12925326374048987  LOSS_MLP:  0.01898441118343423\n",
            "Test set: Average loss: 0.5852 Average relative error: 0.0992\n",
            "LOSS_ENC:  0.12010509024063747  LOSS_MLP:  0.01838275557383895\n",
            "Test set: Average loss: 0.5771 Average relative error: 0.0984\n",
            "LOSS_ENC:  0.12713116159041724  LOSS_MLP:  0.01887555660990377\n",
            "Test set: Average loss: 0.5983 Average relative error: 0.1005\n",
            "LOSS_ENC:  0.14414453692734241  LOSS_MLP:  0.02133549451051901\n",
            "Test set: Average loss: 0.5790 Average relative error: 0.0988\n",
            "LOSS_ENC:  0.1238246785166363  LOSS_MLP:  0.020263263722881675\n",
            "Test set: Average loss: 0.5974 Average relative error: 0.0996\n",
            "LOSS_ENC:  0.11281496177737911  LOSS_MLP:  0.01808485963071386\n",
            "Test set: Average loss: 0.5845 Average relative error: 0.0984\n",
            "LOSS_ENC:  0.11274257441982627  LOSS_MLP:  0.017561166605446488\n",
            "Test set: Average loss: 0.5518 Average relative error: 0.0959\n",
            "LOSS_ENC:  0.12778068209687868  LOSS_MLP:  0.01792644049661855\n",
            "Test set: Average loss: 0.5510 Average relative error: 0.0958\n",
            "LOSS_ENC:  0.12380874203518033  LOSS_MLP:  0.018513509809660416\n",
            "Test set: Average loss: 0.5514 Average relative error: 0.0960\n",
            "LOSS_ENC:  0.1329233697615564  LOSS_MLP:  0.022016644186805934\n",
            "Test set: Average loss: 0.5094 Average relative error: 0.0924\n",
            "LOSS_ENC:  0.10929933687051137  LOSS_MLP:  0.017160223564133048\n",
            "Test set: Average loss: 0.5288 Average relative error: 0.0941\n",
            "LOSS_ENC:  0.11561434095104535  LOSS_MLP:  0.016944767208769917\n",
            "Test set: Average loss: 0.5392 Average relative error: 0.0942\n",
            "LOSS_ENC:  0.12132164323702455  LOSS_MLP:  0.01821560344736402\n",
            "Test set: Average loss: 0.4951 Average relative error: 0.0909\n",
            "LOSS_ENC:  0.1271828751390179  LOSS_MLP:  0.019230520779577393\n",
            "Test set: Average loss: 0.5048 Average relative error: 0.0915\n",
            "LOSS_ENC:  0.11359965475276113  LOSS_MLP:  0.01731623449207594\n",
            "Test set: Average loss: 0.5287 Average relative error: 0.0933\n",
            "LOSS_ENC:  0.11439909009883802  LOSS_MLP:  0.01689302616675074\n",
            "Test set: Average loss: 0.5180 Average relative error: 0.0926\n",
            "LOSS_ENC:  0.12002412959312399  LOSS_MLP:  0.017973500886000693\n",
            "Test set: Average loss: 0.4797 Average relative error: 0.0893\n",
            "LOSS_ENC:  0.12230653657267491  LOSS_MLP:  0.01703625232524549\n",
            "Test set: Average loss: 0.5075 Average relative error: 0.0922\n",
            "LOSS_ENC:  0.1180694387294352  LOSS_MLP:  0.017935375081530463\n",
            "Test set: Average loss: 0.4688 Average relative error: 0.0884\n",
            "LOSS_ENC:  0.10806801899646719  LOSS_MLP:  0.01683119507894541\n",
            "Test set: Average loss: 0.4572 Average relative error: 0.0868\n",
            "LOSS_ENC:  0.10595579352229834  LOSS_MLP:  0.01566865302932759\n",
            "Test set: Average loss: 0.4451 Average relative error: 0.0863\n",
            "LOSS_ENC:  0.10668285594632228  LOSS_MLP:  0.015936614421661943\n",
            "Test set: Average loss: 0.4413 Average relative error: 0.0857\n",
            "LOSS_ENC:  0.10099329877023895  LOSS_MLP:  0.014797675306908786\n",
            "Test set: Average loss: 0.4253 Average relative error: 0.0843\n",
            "LOSS_ENC:  0.10241654608398676  LOSS_MLP:  0.014649740206853798\n",
            "Test set: Average loss: 0.4240 Average relative error: 0.0842\n",
            "LOSS_ENC:  0.11841170707096656  LOSS_MLP:  0.016268492812135566\n",
            "Test set: Average loss: 0.4486 Average relative error: 0.0867\n",
            "LOSS_ENC:  0.10581784276291728  LOSS_MLP:  0.015608200609373549\n",
            "Test set: Average loss: 0.4063 Average relative error: 0.0824\n",
            "LOSS_ENC:  0.10333509448294838  LOSS_MLP:  0.014709513246392211\n",
            "Test set: Average loss: 0.4011 Average relative error: 0.0821\n",
            "LOSS_ENC:  0.10470818402245641  LOSS_MLP:  0.014868308033328503\n",
            "Test set: Average loss: 0.3999 Average relative error: 0.0818\n",
            "LOSS_ENC:  0.1017427439801395  LOSS_MLP:  0.01397305284626782\n",
            "Test set: Average loss: 0.3963 Average relative error: 0.0813\n",
            "LOSS_ENC:  0.17652268366267285  LOSS_MLP:  0.02632704293743397\n",
            "Test set: Average loss: 0.4516 Average relative error: 0.0879\n",
            "LOSS_ENC:  0.10309533774852753  LOSS_MLP:  0.019943923980463296\n",
            "Test set: Average loss: 0.3957 Average relative error: 0.0814\n",
            "LOSS_ENC:  0.09830247471109033  LOSS_MLP:  0.014963590016122907\n",
            "Test set: Average loss: 0.3781 Average relative error: 0.0798\n",
            "LOSS_ENC:  0.09675459548210104  LOSS_MLP:  0.014502898363086084\n",
            "Test set: Average loss: 0.3637 Average relative error: 0.0778\n",
            "LOSS_ENC:  0.09123422189926107  LOSS_MLP:  0.013536979832376042\n",
            "Test set: Average loss: 0.3660 Average relative error: 0.0778\n",
            "LOSS_ENC:  0.09464917626852791  LOSS_MLP:  0.013215481342437366\n",
            "Test set: Average loss: 0.3428 Average relative error: 0.0752\n",
            "LOSS_ENC:  0.09572915453463793  LOSS_MLP:  0.013607510520766178\n",
            "Test set: Average loss: 0.3686 Average relative error: 0.0789\n",
            "LOSS_ENC:  0.09685282704109947  LOSS_MLP:  0.013247797382064164\n",
            "Test set: Average loss: 0.3440 Average relative error: 0.0757\n",
            "LOSS_ENC:  0.09311084278548758  LOSS_MLP:  0.012905514352799704\n",
            "Test set: Average loss: 0.3263 Average relative error: 0.0741\n",
            "LOSS_ENC:  0.09079560513297717  LOSS_MLP:  0.012306423857808113\n",
            "Test set: Average loss: 0.3167 Average relative error: 0.0723\n",
            "LOSS_ENC:  0.10786809073761106  LOSS_MLP:  0.015085195870293925\n",
            "Test set: Average loss: 0.3692 Average relative error: 0.0784\n",
            "LOSS_ENC:  0.09307630856831868  LOSS_MLP:  0.012916467327158898\n",
            "Test set: Average loss: 0.3196 Average relative error: 0.0730\n",
            "LOSS_ENC:  0.12189700485517581  LOSS_MLP:  0.016804817171456914\n",
            "Test set: Average loss: 0.3323 Average relative error: 0.0745\n"
          ]
        },
        {
          "output_type": "display_data",
          "data": {
            "text/plain": [
              "<Figure size 640x480 with 1 Axes>"
            ],
            "image/png": "[encoded data removed]"
          },
          "metadata": {}
        },
        {
          "output_type": "display_data",
          "data": {
            "text/plain": [
              "<Figure size 640x480 with 1 Axes>"
            ],
            "image/png": "[encoded data removed]"
          },
          "metadata": {}
        },
        {
          "output_type": "display_data",
          "data": {
            "text/plain": [
              "<Figure size 640x480 with 1 Axes>"
            ],
            "image/png": "[encoded data removed]"
          },
          "metadata": {}
        }
      ]
    },
    {
      "cell_type": "code",
      "execution_count": null,
      "metadata": {
        "id": "tR7Fp6yKFBkA"
      },
      "outputs": [],
      "source": [
        "#find best num_epoch and learning rate\n",
        "\n",
        "batch_size=32\n",
        "device = torch.device(\"cuda\" if torch.cuda.is_available() else \"cpu\")\n",
        "val_losses=[]\n",
        "val_rel_losses=[]\n",
        "for lr in list(np.linspace(0.0001, 0.001, 50)):\n",
        "  for num_epochs in list(np.linspace(50 , 200, 20).astype(int)):\n",
        "\n",
        "        model_trained,  val_loss, val_rel_loss = run_vel_training_encoder_decoder(num_epochs, lr, batch_size, device)\n",
        "        val_losses.append(val_loss)\n",
        "        val_rel_losses.append(val_rel_loss)\n"
      ]
    },
    {
      "cell_type": "code",
      "execution_count": null,
      "metadata": {
        "id": "bBBQ2fU6vsPY"
      },
      "outputs": [],
      "source": [
        "print(device)"
      ]
    },
    {
      "cell_type": "code",
      "execution_count": null,
      "metadata": {
        "id": "NINq0KIOvn_I"
      },
      "outputs": [],
      "source": [
        "\n",
        "model = Simple_Model()\n",
        "  # Valori casuali tra 0 e 1\n",
        "z1, z2, z3= model.forward(train_params,train_vel)"
      ]
    },
    {
      "cell_type": "code",
      "source": [
        "z1.shape"
      ],
      "metadata": {
        "colab": {
          "base_uri": "https://localhost:8080/"
        },
        "id": "NjMB1zFmuSDm",
        "outputId": "6366a8d3-bcda-4c02-c001-71e83b7d8d33"
      },
      "execution_count": null,
      "outputs": [
        {
          "output_type": "execute_result",
          "data": {
            "text/plain": [
              "torch.Size([1560, 18, 8])"
            ]
          },
          "metadata": {},
          "execution_count": 79
        }
      ]
    },
    {
      "cell_type": "code",
      "execution_count": null,
      "metadata": {
        "colab": {
          "base_uri": "https://localhost:8080/"
        },
        "id": "KI43oebU3e95",
        "outputId": "d318417b-c453-4410-e48b-f23dbd07d7d8"
      },
      "outputs": [
        {
          "output_type": "execute_result",
          "data": {
            "text/plain": [
              "torch.Size([1560, 18, 8])"
            ]
          },
          "metadata": {},
          "execution_count": 80
        }
      ],
      "source": [
        "z2.shape"
      ]
    },
    {
      "cell_type": "code",
      "source": [
        "z3.shape"
      ],
      "metadata": {
        "colab": {
          "base_uri": "https://localhost:8080/"
        },
        "id": "PD3WsrA0vHcx",
        "outputId": "71fc5297-1b8b-463f-de2c-9dc1dee41bf2"
      },
      "execution_count": null,
      "outputs": [
        {
          "output_type": "execute_result",
          "data": {
            "text/plain": [
              "torch.Size([1560, 5, 5])"
            ]
          },
          "metadata": {},
          "execution_count": 81
        }
      ]
    },
    {
      "cell_type": "code",
      "source": [
        "z=model.predict(train_params)"
      ],
      "metadata": {
        "id": "tsxauj7LvOly"
      },
      "execution_count": null,
      "outputs": []
    },
    {
      "cell_type": "code",
      "source": [
        "z.shape"
      ],
      "metadata": {
        "colab": {
          "base_uri": "https://localhost:8080/"
        },
        "id": "MlI85MUnvRAf",
        "outputId": "55d4f37e-1c91-4c0c-a58e-f5db4fe15b43"
      },
      "execution_count": null,
      "outputs": [
        {
          "output_type": "execute_result",
          "data": {
            "text/plain": [
              "torch.Size([1560, 5, 5])"
            ]
          },
          "metadata": {},
          "execution_count": 32
        }
      ]
    },
    {
      "cell_type": "code",
      "source": [
        "c = torch.randn((5,3,2))\n",
        "c.shape"
      ],
      "metadata": {
        "colab": {
          "base_uri": "https://localhost:8080/"
        },
        "id": "2exQdUyryr-U",
        "outputId": "bb58ae7a-d705-45d2-ee73-61d6954b49d9"
      },
      "execution_count": null,
      "outputs": [
        {
          "output_type": "execute_result",
          "data": {
            "text/plain": [
              "torch.Size([5, 3, 2])"
            ]
          },
          "metadata": {},
          "execution_count": 128
        }
      ]
    },
    {
      "cell_type": "code",
      "source": [
        "c_shaped=c.view(c.shape[0], -1)"
      ],
      "metadata": {
        "id": "M4gLIJpMzPPR"
      },
      "execution_count": null,
      "outputs": []
    },
    {
      "cell_type": "code",
      "source": [
        "c_shaped.shape"
      ],
      "metadata": {
        "colab": {
          "base_uri": "https://localhost:8080/"
        },
        "id": "csiBaQe9zZv8",
        "outputId": "bb359c84-7a14-4c52-8dd6-329649293892"
      },
      "execution_count": null,
      "outputs": [
        {
          "output_type": "execute_result",
          "data": {
            "text/plain": [
              "torch.Size([5, 6])"
            ]
          },
          "metadata": {},
          "execution_count": 133
        }
      ]
    },
    {
      "cell_type": "code",
      "source": [
        "c_shaped"
      ],
      "metadata": {
        "colab": {
          "base_uri": "https://localhost:8080/"
        },
        "id": "GcBNc2kKzsRD",
        "outputId": "ea09b0fa-7a03-471d-c6c6-3af1b07da260"
      },
      "execution_count": null,
      "outputs": [
        {
          "output_type": "execute_result",
          "data": {
            "text/plain": [
              "tensor([[ 0.0247,  0.5999,  1.3813, -0.8010,  1.7893, -1.3100],\n",
              "        [-0.0918,  1.5952, -0.1132, -1.1700,  0.2491,  2.2126],\n",
              "        [-0.3063,  1.1698,  0.2230,  0.6958,  0.5637, -1.1418],\n",
              "        [ 0.4004,  0.7669,  0.3747,  1.3313,  0.7806,  0.3532],\n",
              "        [-0.2890,  0.9966,  1.9221,  0.0194, -1.7310,  1.0572]])"
            ]
          },
          "metadata": {},
          "execution_count": 135
        }
      ]
    },
    {
      "cell_type": "code",
      "source": [
        "torch.norm(c_shaped, dim=1)"
      ],
      "metadata": {
        "colab": {
          "base_uri": "https://localhost:8080/"
        },
        "id": "crBccyUtznzZ",
        "outputId": "94ccb136-af9e-4252-9a12-3f4b30505c4a"
      },
      "execution_count": null,
      "outputs": [
        {
          "output_type": "execute_result",
          "data": {
            "text/plain": [
              "tensor([2.7979, 2.9821, 1.9020, 1.8426, 2.9809])"
            ]
          },
          "metadata": {},
          "execution_count": 134
        }
      ]
    },
    {
      "cell_type": "markdown",
      "metadata": {
        "id": "sGia49f52YVb"
      },
      "source": []
    },
    {
      "cell_type": "code",
      "execution_count": null,
      "metadata": {
        "id": "WxKh2cvIOjf_"
      },
      "outputs": [],
      "source": [
        "def read_vtk(filename):\n",
        "    \"\"\"Read .vtk file and return the polydata\"\"\"\n",
        "\n",
        "    fn_dir, fn_ext = os.path.splitext(filename)\n",
        "\n",
        "    if fn_ext == '.vtk':\n",
        "        reader = vtk.vtkPolyDataReader()\n",
        "    elif fn_ext == '.vtp':\n",
        "        reader = vtk.vtkXMLPolyDataReader()\n",
        "    elif fn_ext == '.stl':\n",
        "        reader = vtk.vtkSTLReader()\n",
        "    elif fn_ext == '.obj':\n",
        "        reader = vtk.vtkOBJReader()\n",
        "    elif fn_ext == '.vtu':\n",
        "        reader = vtk.vtkXMLUnstructuredGridReader()\n",
        "    elif fn_ext == '.pvtu':\n",
        "        reader = vtk.vtkXMLPUnstructuredGridReader()\n",
        "    else:\n",
        "        raise ValueError(F\"File extension {fn_ext} not supported\")\n",
        "\n",
        "    reader.SetFileName(filename)\n",
        "    reader.Update(0)\n",
        "    mesh = reader.GetOutput()\n",
        "\n",
        "    return mesh\n",
        "\n",
        "def write_vtk(mesh, fn):\n",
        "    \"\"\" Write a mesh (vtk polydata or unstructured grid) to disk \"\"\"\n",
        "\n",
        "    _, extension = os.path.splitext(fn)\n",
        "\n",
        "    if extension == '.vtk':\n",
        "        writer = vtk.vtkPolyDataWriter()\n",
        "    elif extension == '.stl':\n",
        "        writer = vtk.vtkSTLWriter()\n",
        "    elif extension == '.vtp':\n",
        "        writer = vtk.vtkXMLPolyDataWriter()\n",
        "    elif extension == '.vtu':\n",
        "        writer = vtk.vtkXMLUnstructuredGridWriter()\n",
        "    elif extension == '.obj':\n",
        "        writer = vtk.vtkOBJWriter()\n",
        "    else:\n",
        "        raise ValueError(f\"Unrecognized extension {extension}\")\n",
        "\n",
        "    writer.SetInputData(mesh)\n",
        "    writer.SetFileName(fn)\n",
        "    writer.Update(0)\n",
        "    writer.Write()\n",
        "\n",
        "    return\n",
        "\n",
        "def add_array(mesh, array, name):\n",
        "    \"\"\"Add numpy array as new field to a vtk file\"\"\"\n",
        "\n",
        "    new_array = numpy_to_vtk(array)\n",
        "    new_array.SetName(name)\n",
        "    mesh.GetPointData().AddArray(new_array)\n",
        "\n",
        "    return mesh\n",
        "\n",
        "def compute_matching_idxs():\n",
        "    \"\"\"Compute correspondences bewteen indices on the .vtu and on the .mesh file for plotting\"\"\"\n",
        "\n",
        "    mesh = read_vtk(os.path.join('/content/drive/MyDrive/data_ML4Science', 'geometries', 'bif_sym_alpha50_h0.10_ref.vtu'))\n",
        "    points = vtk_to_numpy(mesh.GetPoints().GetData())\n",
        "\n",
        "    mesh_2 = meshio.read(os.path.join('/content/drive/MyDrive/data_ML4Science', 'geometries','bif_sym_alpha50_h0.10.mesh'))\n",
        "    points_2 = mesh_2.points\n",
        "\n",
        "    dist = cdist(mesh_2.points, points, metric='euclidean')\n",
        "\n",
        "    idxs = np.argmin(dist, axis=0)\n",
        "\n",
        "    return idxs\n",
        "\n",
        "\n",
        "def visualize_solution(field_array, fields=None, step_t=10):\n",
        "    \"\"\" Export the solution corresponding to the n-th snapshot (every step_t steps) to a .vtu file.\"\"\"\n",
        "\n",
        "    if fields is None:\n",
        "        fields = {'velocity': 3, 'pressure': 1}  # fields and corresponding dimensions\n",
        "\n",
        "    os.makedirs('solutions', exist_ok=True)\n",
        "\n",
        "    idxs = compute_matching_idxs()\n",
        "\n",
        "    mesh = read_vtk(os.path.join('/content/drive/MyDrive/data_ML4Science', 'geometries', 'bif_sym_alpha50_h0.10.vtu'))\n",
        "\n",
        "    fom_solution = dict()\n",
        "    for field in fields:\n",
        "        # print(f\"Processing field {field} - Dimension: {fields[field]}\")\n",
        "        cur_idxs = np.hstack([idxs + k * (Nh_space[field]//fields[field]) for k in range(fields[field])])\n",
        "        fom_solution[field] = expand(field_array, basis_space[field], basis_time[field])[cur_idxs]\n",
        "        print(fom_solution[field].shape)\n",
        "\n",
        "    for cnt_t in range(0, Nh_time['velocity'], step_t):\n",
        "        # print(f\"\\nProcessing timestep {cnt_t} of {Nh_time['velocity']}\")\n",
        "        for field in fields:\n",
        "            cur_fom_solution = np.reshape(fom_solution[field][:, cnt_t], (fields[field], -1)).T\n",
        "            mesh = add_array(mesh, cur_fom_solution, field)\n",
        "\n",
        "        # write_vtk(mesh, os.path.join('solutions', f\"solution_{n}_{cnt_t}\" + '.vtu'))\n",
        "        write_vtk(mesh, os.path.join('solutions', f\"solution_{cnt_t}\" + '.vtu'))\n",
        "\n",
        "    return\n"
      ]
    },
    {
      "cell_type": "code",
      "execution_count": null,
      "metadata": {
        "id": "Ezn9VDSNOwKP"
      },
      "outputs": [],
      "source": [
        "model_trained.eval()\n",
        "\n",
        "input_tensor = torch.tensor(test_params[0,:], dtype=torch.float32)  # Trasforma in tensore\n",
        "input_tensor = input_tensor.unsqueeze(dim=0)\n",
        "input_tensor = input_tensor.to(device)  # Se usi la GPU\n",
        "\n",
        "with torch.no_grad():\n",
        "    output_visual = model_trained(input_tensor)\n",
        "    output_visual=output_visual[0]\n",
        "    print(output_visual.shape)\n",
        "\n",
        "visualize_solution(output_visual.cpu().numpy() ,fields={'velocity': 3},step_t=5)"
      ]
    },
    {
      "cell_type": "code",
      "execution_count": null,
      "metadata": {
        "id": "rWGvn5V8cY_I"
      },
      "outputs": [],
      "source": [
        "!zip -r solutions.zip solutions\n",
        "from google.colab import files\n",
        "files.download('solutions.zip')"
      ]
    }
  ],
  "metadata": {
    "colab": {
      "provenance": [],
      "gpuType": "T4"
    },
    "kernelspec": {
      "display_name": "Python 3",
      "name": "python3"
    },
    "language_info": {
      "name": "python"
    },
    "accelerator": "GPU"
  },
  "nbformat": 4,
  "nbformat_minor": 0
}