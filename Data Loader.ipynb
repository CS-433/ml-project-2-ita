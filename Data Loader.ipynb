{
 "cells": [
  {
   "cell_type": "code",
   "execution_count": 4,
   "id": "8535dfae",
   "metadata": {},
   "outputs": [],
   "source": [
    "import os\n",
    "import numpy as np\n",
    "\n",
    "import vtkmodules.all as vtk\n",
    "from vtkmodules.util.numpy_support import vtk_to_numpy, numpy_to_vtk\n",
    "\n",
    "import meshio\n",
    "from scipy.spatial.distance import cdist\n",
    "# from scipy.sparse import load_npz\n",
    "\n",
    "# TO EXECUTE THIS CELL, YOU NEED TO INSTALL THE FOLLOWING LIBRARIES: numpy, vtk, meshio, scipy"
   ]
  },
  {
   "cell_type": "markdown",
   "id": "3e6147da",
   "metadata": {},
   "source": [
    "# 1. Load the bases\n",
    "\n",
    "In the Navier-Stokes problem we have two solution fields: velocity and pressure. Exploiting Proper Orthogonal Decomposition (POD), given a set of available solutions, I have pre-computed bases in space and in time for both fields, which are represented as matrices and imported in the following cell. Each basis matrix has a number of rows equal to the number of unkowns in the full-order problem (FOM) and a number of columns equal to the number of POD modes. Since the former is much larger than the latter, these matrices are tall and thin. \n",
    "\n",
    "**Remark:** *Concerning the velocity bases, we delete some \"extra\" basis functions, that have been added only to guarantee the stability of the Space-Time Reduced Basis (ST-RB) method. These functions are called \"supremizers\" for the spatial basis and \"stabilizers\" for the temporal basis.*"
   ]
  },
  {
   "cell_type": "code",
   "execution_count": 5,
   "id": "3e68ccf6",
   "metadata": {},
   "outputs": [],
   "source": [
    "DATASET_PATH= \"/Users/manuelcurnis/Downloads/dataset\""
   ]
  },
  {
   "cell_type": "code",
   "execution_count": 6,
   "id": "c0fe1b60",
   "metadata": {},
   "outputs": [
    {
     "name": "stdout",
     "output_type": "stream",
     "text": [
      "Requirement already satisfied: vtk in /opt/anaconda3/envs/ada/lib/python3.11/site-packages (9.3.1)\n",
      "Requirement already satisfied: matplotlib>=2.0.0 in /opt/anaconda3/envs/ada/lib/python3.11/site-packages (from vtk) (3.7.2)\n",
      "Requirement already satisfied: contourpy>=1.0.1 in /opt/anaconda3/envs/ada/lib/python3.11/site-packages (from matplotlib>=2.0.0->vtk) (1.2.0)\n",
      "Requirement already satisfied: cycler>=0.10 in /opt/anaconda3/envs/ada/lib/python3.11/site-packages (from matplotlib>=2.0.0->vtk) (0.11.0)\n",
      "Requirement already satisfied: fonttools>=4.22.0 in /opt/anaconda3/envs/ada/lib/python3.11/site-packages (from matplotlib>=2.0.0->vtk) (4.51.0)\n",
      "Requirement already satisfied: kiwisolver>=1.0.1 in /opt/anaconda3/envs/ada/lib/python3.11/site-packages (from matplotlib>=2.0.0->vtk) (1.4.4)\n",
      "Requirement already satisfied: numpy>=1.20 in /opt/anaconda3/envs/ada/lib/python3.11/site-packages (from matplotlib>=2.0.0->vtk) (1.26.4)\n",
      "Requirement already satisfied: packaging>=20.0 in /opt/anaconda3/envs/ada/lib/python3.11/site-packages (from matplotlib>=2.0.0->vtk) (24.1)\n",
      "Requirement already satisfied: pillow>=6.2.0 in /opt/anaconda3/envs/ada/lib/python3.11/site-packages (from matplotlib>=2.0.0->vtk) (10.4.0)\n",
      "Requirement already satisfied: pyparsing<3.1,>=2.3.1 in /opt/anaconda3/envs/ada/lib/python3.11/site-packages (from matplotlib>=2.0.0->vtk) (3.0.9)\n",
      "Requirement already satisfied: python-dateutil>=2.7 in /opt/anaconda3/envs/ada/lib/python3.11/site-packages (from matplotlib>=2.0.0->vtk) (2.9.0.post0)\n",
      "Requirement already satisfied: six>=1.5 in /opt/anaconda3/envs/ada/lib/python3.11/site-packages (from python-dateutil>=2.7->matplotlib>=2.0.0->vtk) (1.16.0)\n",
      "Requirement already satisfied: meshio in /opt/anaconda3/envs/ada/lib/python3.11/site-packages (5.3.5)\n",
      "Requirement already satisfied: numpy>=1.20.0 in /opt/anaconda3/envs/ada/lib/python3.11/site-packages (from meshio) (1.26.4)\n",
      "Requirement already satisfied: rich in /opt/anaconda3/envs/ada/lib/python3.11/site-packages (from meshio) (13.9.4)\n",
      "Requirement already satisfied: markdown-it-py>=2.2.0 in /opt/anaconda3/envs/ada/lib/python3.11/site-packages (from rich->meshio) (3.0.0)\n",
      "Requirement already satisfied: pygments<3.0.0,>=2.13.0 in /opt/anaconda3/envs/ada/lib/python3.11/site-packages (from rich->meshio) (2.15.1)\n",
      "Requirement already satisfied: mdurl~=0.1 in /opt/anaconda3/envs/ada/lib/python3.11/site-packages (from markdown-it-py>=2.2.0->rich->meshio) (0.1.2)\n"
     ]
    }
   ],
   "source": [
    "!pip install vtk\n",
    "!pip install meshio"
   ]
  },
  {
   "cell_type": "code",
   "execution_count": 7,
   "id": "ca9a3ae5",
   "metadata": {},
   "outputs": [],
   "source": [
    "fields = {'velocity', 'pressure'}\n",
    "\n",
    "basis_space, sv_space, Nh_space, nmodes_space = dict(), dict(), dict(), dict()\n",
    "basis_time, sv_time, Nh_time, nmodes_time = dict(), dict(), dict(), dict()\n",
    "nmodes = dict()\n",
    "for field in fields:\n",
    "    basis_space[field] = np.load(os.path.join(DATASET_PATH, 'basis', field, 'space_basis.npy'))  # spatial basis\n",
    "    sv_space[field] = np.load(os.path.join(DATASET_PATH, 'basis', field, 'space_sv.npy'))  # singular values in space\n",
    "    Nh_space[field], nmodes_space[field] = basis_space[field].shape  # number of FOM and ROM unknowns in space\n",
    "    basis_time[field] = np.load(os.path.join(DATASET_PATH, 'basis', field, 'time_basis.npy'))  # temporal basis\n",
    "    sv_time[field] = np.load(os.path.join(DATASET_PATH, 'basis', field, 'time_sv.npy'))  # singular values in time\n",
    "    Nh_time[field], nmodes_time[field] = basis_time[field].shape  # number of FOM and ROM unknowns in time \n",
    "    nmodes[field] = nmodes_space[field] * nmodes_time[field]  # total dimension of the reduced basis\n",
    "    \n",
    "# UPDATE VELOCITY BASES TO ACCOUNT FOR SUPREMIZERS AND STABILIZERS\n",
    "N_supr_space = basis_space['pressure'].shape[1] + 66  # number of extra bases in space for the velocity\n",
    "N_supr_time = 5  # number of extra bases in time for the velocity\n",
    "\n",
    "# STORE ORIGINAL NUMBER OF VELOCITY MODES IN THE DICTIONARY\n",
    "nmodes_space['velocity_full'] = nmodes_space['velocity']\n",
    "nmodes_time['velocity_full'] = nmodes_time['velocity']\n",
    "nmodes['velocity_full'] = nmodes['velocity']\n",
    "\n",
    "# UPDATE THE NUMBER OF VELOCITY MODES TO ACCOUNT FOR SUPREMIZERS AND STABILIZERS\n",
    "nmodes_space['velocity'] -= N_supr_space\n",
    "nmodes_time['velocity'] -= N_supr_time\n",
    "nmodes['velocity'] = nmodes_space['velocity'] * nmodes_time['velocity']\n",
    "\n",
    "# UPDATE VELOCITY BASES TO ACCOUNT FOR SUPREMIZERS AND STABILIZERS\n",
    "basis_space['velocity'] = basis_space['velocity'][:, :nmodes_space['velocity']]\n",
    "basis_time['velocity'] = basis_time['velocity'][:, :nmodes_time['velocity']]\n",
    "\n",
    "# LOAD NORMED BASIS MATRICES IN SPACE (needed for projections)\n",
    "basis_space_normed = dict()\n",
    "#norm = dict()\n",
    "for field in fields:\n",
    "    #norm[field] = load_npz(os.path.join('dataset', 'norms', f'norm_{field}.npz'))\n",
    "    #basis_space_normed[field] = norm[field].dot(basis_space[field])\n",
    "    #np.save(os.path.join('dataset', 'basis', field, 'basis_space_normed.npy'), basis_space_normed[field])\n",
    "    basis_space_normed[field] = np.load(os.path.join(DATASET_PATH, 'basis', field, 'basis_space_normed.npy'))"
   ]
  },
  {
   "cell_type": "code",
   "execution_count": 8,
   "id": "297f821e-27ab-413a-a68b-39aa243db593",
   "metadata": {},
   "outputs": [
    {
     "data": {
      "text/plain": [
       "(76974, 39)"
      ]
     },
     "execution_count": 8,
     "metadata": {},
     "output_type": "execute_result"
    }
   ],
   "source": [
    "basis_space['velocity'].shape  "
   ]
  },
  {
   "cell_type": "code",
   "execution_count": 9,
   "id": "2b190c60-153b-4325-81fd-515a434ed6dc",
   "metadata": {},
   "outputs": [
    {
     "data": {
      "text/plain": [
       "(3552, 9)"
      ]
     },
     "execution_count": 9,
     "metadata": {},
     "output_type": "execute_result"
    }
   ],
   "source": [
    "basis_space['pressure'].shape"
   ]
  },
  {
   "cell_type": "code",
   "execution_count": 10,
   "id": "c5c6a662-aa63-49fe-acae-ba1189adc1c7",
   "metadata": {},
   "outputs": [
    {
     "data": {
      "text/plain": [
       "(1000, 16)"
      ]
     },
     "execution_count": 10,
     "metadata": {},
     "output_type": "execute_result"
    }
   ],
   "source": [
    "basis_time['velocity'].shape"
   ]
  },
  {
   "cell_type": "code",
   "execution_count": 11,
   "id": "bc0d9130-e74c-4792-94e1-325906e56117",
   "metadata": {},
   "outputs": [
    {
     "data": {
      "text/plain": [
       "(1000, 19)"
      ]
     },
     "execution_count": 11,
     "metadata": {},
     "output_type": "execute_result"
    }
   ],
   "source": [
    "basis_time['pressure'].shape"
   ]
  },
  {
   "cell_type": "markdown",
   "id": "02e442a1-a6f1-4854-9757-3cf2d93cb025",
   "metadata": {},
   "source": [
    "= (FOM X ROM)"
   ]
  },
  {
   "cell_type": "markdown",
   "id": "3f317472-c528-46d4-ac64-11d720eb7c16",
   "metadata": {},
   "source": [
    "each basis matrix has a number of rows equal to the number of unkowns in the full-order problem (FOM) and a number of columns equal to the number of POD modes ,represent the most significant patterns in the data."
   ]
  },
  {
   "cell_type": "markdown",
   "id": "21c79ac3",
   "metadata": {},
   "source": [
    "# 2. Load the solutions\n",
    "\n",
    "For each solution, we store the associated space-time reduced coefficients (i.e. the reduced solution). In the dataset, for each parameter value the solutions are stored in vectors, which comprise space-time coefficients for all the fields involved. \n",
    "\n",
    "We can manipulate the solution vectors to store solutions corresponding to different fields in different matrices. Each matrix storing a reduced solution has a number of rows equal to the number of modes in space and a number of columns equal to the number of modes in time. For the velocity, we only consider the \"small\" bases, i.e. the bases without \"extra\" elements (called supremizers in space and stabilizers in time). In fact, such extra bases are only needed to guarantee the stability of the ST-RB method.\n",
    "\n",
    "**Ultimately, each solution is encoded in a 3D matrix, whose dimensions are, respectively, the number of datapoints, the number of modes in space and the number of modes in time.**\n",
    "\n",
    "**Remark**: *the solutions to be used (1950 datapoints) are stored in the 'RB_data' folder. Additional 50 solutions can be found in the 'FOM_data' folder, but we discard them for the time being.*"
   ]
  },
  {
   "cell_type": "code",
   "execution_count": 12,
   "id": "a44109a3",
   "metadata": {},
   "outputs": [],
   "source": [
    "n_snaps = None  # change to a number if you want to load only a subset of snapshots\n",
    "_sol = np.load(os.path.join(DATASET_PATH, 'RB_data', 'solutions.npy'))[:n_snaps]\n",
    "\n",
    "solutions = dict()\n",
    "\n",
    "# velocity reduced solutions (with and without supremizers and stabilizers)\n",
    "solutions['velocity_full'] = np.reshape(_sol[:, :nmodes['velocity_full']], \n",
    "                                        (-1, nmodes_space['velocity_full'], nmodes_time['velocity_full']))\n",
    "solutions['velocity'] = solutions['velocity_full'][:, :nmodes_space['velocity'], :nmodes_time['velocity']]\n",
    "\n",
    "# pressure reduced solutions\n",
    "solutions['pressure'] = np.reshape(_sol[:, :nmodes['pressure']], \n",
    "                                   (-1, nmodes_space['pressure'], nmodes_time['pressure']))"
   ]
  },
  {
   "cell_type": "code",
   "execution_count": 13,
   "id": "a0c17df7-cba7-4428-a653-9d209b08c10e",
   "metadata": {},
   "outputs": [
    {
     "data": {
      "text/plain": [
       "(1950, 9, 19)"
      ]
     },
     "execution_count": 13,
     "metadata": {},
     "output_type": "execute_result"
    }
   ],
   "source": [
    "solutions['pressure'].shape"
   ]
  },
  {
   "cell_type": "raw",
   "id": "4e891ae4-5a03-4ee2-89fd-1b7486afecb7",
   "metadata": {},
   "source": [
    "(# datapoints X # modes in space X # modes in time. )"
   ]
  },
  {
   "cell_type": "code",
   "execution_count": 14,
   "id": "f7dfb032-399a-47c2-939b-e4f0ad3c7dec",
   "metadata": {},
   "outputs": [
    {
     "data": {
      "text/plain": [
       "(1950, 39, 16)"
      ]
     },
     "execution_count": 14,
     "metadata": {},
     "output_type": "execute_result"
    }
   ],
   "source": [
    "solutions['velocity'].shape"
   ]
  },
  {
   "cell_type": "code",
   "execution_count": 15,
   "id": "f590b219",
   "metadata": {},
   "outputs": [],
   "source": [
    "# functions to project and expand solutions\n",
    "\n",
    "def project(sol, normed_basis_space, basis_time):\n",
    "    \"\"\" Project a full-order solution in space-time.\"\"\"\n",
    "    return (normed_basis_space.T.dot(sol)).dot(basis_time) # !! REMARK: here we need the normed basis in space !!\n",
    "\n",
    "def expand(sol, basis_space, basis_time):\n",
    "    \"\"\" Expand a reduced-order solution in space-time.\"\"\"\n",
    "    return (basis_space.dot(sol)).dot(basis_time.T)"
   ]
  },
  {
   "cell_type": "code",
   "execution_count": null,
   "id": "5bcc1273-7dca-41f6-81ad-328dbbaf8d3f",
   "metadata": {},
   "outputs": [],
   "source": [
    "expand(solutions['pressure'], basis_space['pressure'], basis_time['pressure']).shape"
   ]
  },
  {
   "cell_type": "markdown",
   "id": "347ce177",
   "metadata": {},
   "source": [
    "# 3. Load the parameters\n",
    "\n",
    "To be able to solve the Navier-Stokes equations, it is compulory to prescribe initial conditions (i.e. how is the solution at $t=0$) and boundary conditions (i.e. how velocity and/or pressure behave at the boundaries of the domain). The domain boundaries are the lateral wall, the inlet and the two outlets. For this test case, we considered:\n",
    "\n",
    "* initial conditions equal to $0$;\n",
    "* velocity equal to $0$ on the lateral boundary (as if the artery is rigid, which is evidently an assumption);\n",
    "* velocity such that the volumetric flow rate matches a prescribed target at the inlet;\n",
    "* velocity such that the volumetric flow rate matches a prescribed target at one outlet;\n",
    "* pressure equal to $0$ (not really, but that's ok) at the other outlet.\n",
    "\n",
    "Each simulation is characterized by 3 parameters. The original parameter vector has length 4, but the third entry is always equal to 1 and can be safely discarded.\n",
    "\n",
    "At the inlet of the bifurcation, we impose a prescribed volumetric flow rate (mL of blood per second) of the form: $$ Q_{in}(t) = 1 - \\cos\\left(\\frac{2\\pi t}{T}\\right) + \\mu_1 \\sin\\left(\\mu_2 \\frac{2\\pi t}{T}\\right)~, $$ where $T=1 \\ s$ is the final time of the simulation. Therefore, the first two parameters encode the following information:\n",
    "\n",
    "* $\\mu_1$: frequency of the oscillations in the flow rate. Bounds: (4.0, 8.0);\n",
    "* $\\mu_2$: amplitude of the oscillations in the flow rate. Bounds: (0.1, 0.3).\n",
    "\n",
    "At one of the outlets, instead, we enforce the flow rate $Q_{out}(t) = \\mu_3 \\ Q_{in}(t)$. Thus, the parameter $\\mu_3$ (Bounds: $(0.2,0.8)$) represents the fraction of blood that exists the domain via the first outlet. \n",
    "\n",
    "**The parameter vectors represent the input of the model!**"
   ]
  },
  {
   "cell_type": "code",
   "execution_count": 16,
   "id": "8a720a49",
   "metadata": {},
   "outputs": [
    {
     "data": {
      "image/png": "[encoded data removed]",
      "text/plain": [
       "<Figure size 640x480 with 1 Axes>"
      ]
     },
     "metadata": {},
     "output_type": "display_data"
    }
   ],
   "source": [
    "import matplotlib.pyplot as plt\n",
    "\n",
    "Q = lambda t, mu, T=1: 1 - np.cos(2*np.pi*t/T) + mu[1] * np.sin(mu[0]*2*np.pi*t/T)\n",
    "\n",
    "times = np.linspace(0,1,1000)\n",
    "plt.plot(times, Q(times, [4.0, 0.1]), 'b-', label=r\"$\\mu = [4.0, 0.1]$\")\n",
    "plt.plot(times, Q(times, [4.0, 0.3]), 'b--', label=r\"$\\mu = [4.0, 0.3]$\")\n",
    "plt.plot(times, Q(times, [8.0, 0.1]), 'r-', label=r\"$\\mu = [8.0, 0.1]$\")\n",
    "plt.plot(times, Q(times, [8.0, 0.3]), 'r--', label=r\"$\\mu = [8.0, 0.3]$\")\n",
    "\n",
    "plt.grid()\n",
    "plt.xlim([0,1])\n",
    "plt.legend()\n",
    "plt.title(\"Parametric flow rate\", fontweight='bold', fontsize=20)\n",
    "plt.show()"
   ]
  },
  {
   "cell_type": "code",
   "execution_count": 17,
   "id": "4beee28b",
   "metadata": {},
   "outputs": [],
   "source": [
    "params = np.load(os.path.join(DATASET_PATH, 'RB_data', 'parameters.npy'))\n",
    "params = np.delete(params, 2, axis=1)  # one column is useless and we delete it "
   ]
  },
  {
   "cell_type": "code",
   "execution_count": 18,
   "id": "05f54252-3c4a-445d-afbb-f27f43550c55",
   "metadata": {},
   "outputs": [
    {
     "data": {
      "text/plain": [
       "(1950, 3)"
      ]
     },
     "execution_count": 18,
     "metadata": {},
     "output_type": "execute_result"
    }
   ],
   "source": [
    "params.shape"
   ]
  },
  {
   "cell_type": "code",
   "execution_count": 19,
   "id": "c84e9f66-b1cf-430a-94b7-c1e1e5297bda",
   "metadata": {},
   "outputs": [],
   "source": [
    "solutionss = np.load(os.path.join(DATASET_PATH, 'RB_data', 'solutions.npy'))"
   ]
  },
  {
   "cell_type": "code",
   "execution_count": 20,
   "id": "c6efd739-e213-4b7d-bb3d-1a1601f9ac57",
   "metadata": {},
   "outputs": [
    {
     "data": {
      "text/plain": [
       "(1950, 3807)"
      ]
     },
     "execution_count": 20,
     "metadata": {},
     "output_type": "execute_result"
    }
   ],
   "source": [
    "solutionss.shape"
   ]
  },
  {
   "cell_type": "markdown",
   "id": "cd2f7ada",
   "metadata": {},
   "source": [
    "# 4. Visualize the solutions\n",
    "\n",
    "The function ``visualize_solution`` allows to export the solution (velocity, pressure) as a ``.vtu`` file, which is stored in the *solutions/* folder. The file can be opened e.g. with [Paraview](https://www.paraview.org/). "
   ]
  },
  {
   "cell_type": "code",
   "execution_count": null,
   "id": "4deef07e",
   "metadata": {},
   "outputs": [],
   "source": [
    "def read_vtk(filename):\n",
    "    \"\"\"Read .vtk file and return the polydata\"\"\"\n",
    "\n",
    "    fn_dir, fn_ext = os.path.splitext(filename)\n",
    "\n",
    "    if fn_ext == '.vtk':\n",
    "        reader = vtk.vtkPolyDataReader()\n",
    "    elif fn_ext == '.vtp':\n",
    "        reader = vtk.vtkXMLPolyDataReader()\n",
    "    elif fn_ext == '.stl':\n",
    "        reader = vtk.vtkSTLReader()\n",
    "    elif fn_ext == '.obj':\n",
    "        reader = vtk.vtkOBJReader()\n",
    "    elif fn_ext == '.vtu':\n",
    "        reader = vtk.vtkXMLUnstructuredGridReader()\n",
    "    elif fn_ext == '.pvtu':\n",
    "        reader = vtk.vtkXMLPUnstructuredGridReader()\n",
    "    else:\n",
    "        raise ValueError(F\"File extension {fn_ext} not supported\")\n",
    "\n",
    "    reader.SetFileName(filename)\n",
    "    reader.Update(0)\n",
    "    mesh = reader.GetOutput()\n",
    "\n",
    "    return mesh\n",
    "\n",
    "def write_vtk(mesh, fn):\n",
    "    \"\"\" Write a mesh (vtk polydata or unstructured grid) to disk \"\"\"\n",
    "\n",
    "    _, extension = os.path.splitext(fn)\n",
    "\n",
    "    if extension == '.vtk':\n",
    "        writer = vtk.vtkPolyDataWriter()\n",
    "    elif extension == '.stl':\n",
    "        writer = vtk.vtkSTLWriter()\n",
    "    elif extension == '.vtp':\n",
    "        writer = vtk.vtkXMLPolyDataWriter()\n",
    "    elif extension == '.vtu':\n",
    "        writer = vtk.vtkXMLUnstructuredGridWriter()\n",
    "    elif extension == '.obj':\n",
    "        writer = vtk.vtkOBJWriter()\n",
    "    else:\n",
    "        raise ValueError(f\"Unrecognized extension {extension}\")\n",
    "\n",
    "    writer.SetInputData(mesh)\n",
    "    writer.SetFileName(fn)\n",
    "    writer.Update(0)\n",
    "    writer.Write()\n",
    "\n",
    "    return\n",
    "\n",
    "def add_array(mesh, array, name): \n",
    "    \"\"\"Add numpy array as new field to a vtk file\"\"\"\n",
    "\n",
    "    new_array = numpy_to_vtk(array)\n",
    "    new_array.SetName(name)\n",
    "    mesh.GetPointData().AddArray(new_array)\n",
    "\n",
    "    return mesh"
   ]
  },
  {
   "cell_type": "code",
   "execution_count": null,
   "id": "e45b7706",
   "metadata": {},
   "outputs": [],
   "source": [
    "def compute_matching_idxs():\n",
    "    \"\"\"Compute correspondences bewteen indices on the .vtu and on the .mesh file for plotting\"\"\"\n",
    "    \n",
    "    mesh = read_vtk(os.path.join('dataset', 'geometries', 'bif_sym_alpha50_h0.10_ref.vtu'))\n",
    "    points = vtk_to_numpy(mesh.GetPoints().GetData())\n",
    "    \n",
    "    mesh_2 = meshio.read(os.path.join('dataset', 'geometries','bif_sym_alpha50_h0.10.mesh'))\n",
    "    points_2 = mesh_2.points\n",
    "    \n",
    "    dist = cdist(mesh_2.points, points, metric='euclidean')\n",
    "    \n",
    "    idxs = np.argmin(dist, axis=0)\n",
    "    \n",
    "    return idxs"
   ]
  },
  {
   "cell_type": "code",
   "execution_count": null,
   "id": "bdaf1590",
   "metadata": {},
   "outputs": [],
   "source": [
    "def visualize_solution(n, fields=None, step_t=10):\n",
    "    \"\"\" Export the solution corresponding to the n-th snapshot (every step_t steps) to a .vtu file.\"\"\"\n",
    "    \n",
    "    if fields is None:\n",
    "        fields = {'velocity': 3, 'pressure': 1}  # fields and corresponding dimensions\n",
    "        \n",
    "    os.makedirs('solutions', exist_ok=True)\n",
    "    \n",
    "    idxs = compute_matching_idxs()\n",
    "    \n",
    "    mesh = read_vtk(os.path.join('dataset', 'geometries', 'bif_sym_alpha50_h0.10.vtu'))\n",
    "    \n",
    "    fom_solution = dict()\n",
    "    for field in fields:\n",
    "        # print(f\"Processing field {field} - Dimension: {fields[field]}\")\n",
    "        cur_idxs = np.hstack([idxs + k * (Nh_space[field]//fields[field]) for k in range(fields[field])])\n",
    "        fom_solution[field] = expand(solutions[field][n], basis_space[field], basis_time[field])[cur_idxs]\n",
    "    \n",
    "    for cnt_t in range(0, Nh_time['velocity'], step_t):\n",
    "        # print(f\"\\nProcessing timestep {cnt_t} of {Nh_time['velocity']}\")\n",
    "        for field in fields:\n",
    "            cur_fom_solution = np.reshape(fom_solution[field][:, cnt_t], (fields[field], -1)).T\n",
    "            mesh = add_array(mesh, cur_fom_solution, field)\n",
    "    \n",
    "        write_vtk(mesh, os.path.join('solutions', f\"solution_{n}_{cnt_t}\" + '.vtu'))\n",
    "    \n",
    "    return"
   ]
  },
  {
   "cell_type": "code",
   "execution_count": null,
   "id": "df54bb9a",
   "metadata": {},
   "outputs": [],
   "source": [
    "visualize_solution(0, step_t=5)"
   ]
  }
 ],
 "metadata": {
  "kernelspec": {
   "display_name": "Python 3 (ipykernel)",
   "language": "python",
   "name": "python3"
  },
  "language_info": {
   "codemirror_mode": {
    "name": "ipython",
    "version": 3
   },
   "file_extension": ".py",
   "mimetype": "text/x-python",
   "name": "python",
   "nbconvert_exporter": "python",
   "pygments_lexer": "ipython3",
   "version": "3.11.8"
  }
 },
 "nbformat": 4,
 "nbformat_minor": 5
}
